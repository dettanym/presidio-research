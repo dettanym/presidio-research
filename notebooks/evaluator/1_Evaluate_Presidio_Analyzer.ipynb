{
 "cells": [
  {
   "cell_type": "code",
   "execution_count": 6,
   "metadata": {},
   "outputs": [],
   "source": [
    "from pathlib import Path\n",
    "from copy import deepcopy\n",
    "from pprint import pprint\n",
    "from collections import Counter\n",
    "\n",
    "from presidio_evaluator import InputSample\n",
    "from presidio_evaluator.evaluator_2 import Evaluator, SampleError\n",
    "from presidio_evaluator.models_2 import PresidioAnalyzerWrapper\n",
    "\n",
    "import pandas as pd\n",
    "\n",
    "pd.set_option(\"display.max_columns\", None)\n",
    "pd.set_option(\"display.max_rows\", None)\n",
    "pd.set_option(\"display.max_colwidth\", None)\n",
    "\n",
    "%reload_ext autoreload\n",
    "%autoreload 2"
   ]
  },
  {
   "attachments": {},
   "cell_type": "markdown",
   "metadata": {},
   "source": [
    "Select data for evaluation"
   ]
  },
  {
   "cell_type": "code",
   "execution_count": 3,
   "metadata": {},
   "outputs": [
    {
     "name": "stderr",
     "output_type": "stream",
     "text": [
      "tokenizing input:   0%|          | 0/1500 [00:00<?, ?it/s]"
     ]
    },
    {
     "name": "stdout",
     "output_type": "stream",
     "text": [
      "loading model en_core_web_sm\n"
     ]
    },
    {
     "name": "stderr",
     "output_type": "stream",
     "text": [
      "tokenizing input: 100%|██████████| 1500/1500 [00:40<00:00, 36.64it/s]"
     ]
    },
    {
     "name": "stdout",
     "output_type": "stream",
     "text": [
      "1500\n"
     ]
    },
    {
     "name": "stderr",
     "output_type": "stream",
     "text": [
      "\n"
     ]
    }
   ],
   "source": [
    "dataset_name = \"synth_dataset_v2.json\"\n",
    "dataset = InputSample.read_dataset_json(Path(Path.cwd().parent.parent, \"data\", dataset_name))\n",
    "print(len(dataset))"
   ]
  },
  {
   "attachments": {},
   "cell_type": "markdown",
   "metadata": {},
   "source": [
    "PII detection by using Presidio Analyzer Wrapper"
   ]
  },
  {
   "cell_type": "code",
   "execution_count": 7,
   "metadata": {},
   "outputs": [
    {
     "name": "stdout",
     "output_type": "stream",
     "text": [
      "Entities supported by this Presidio Analyzer instance:\n",
      "PHONE_NUMBER, US_BANK_NUMBER, AU_ABN, US_SSN, AU_ACN, CREDIT_CARD, LOCATION, US_PASSPORT, EMAIL_ADDRESS, IBAN_CODE, AU_TFN, US_ITIN, DATE_TIME, MEDICAL_LICENSE, SG_NRIC_FIN, AU_MEDICARE, US_DRIVER_LICENSE, UK_NHS, PERSON, NRP, URL, CRYPTO, IP_ADDRESS\n"
     ]
    },
    {
     "name": "stderr",
     "output_type": "stream",
     "text": [
      "PII detection process....: 100%|██████████| 1500/1500 [00:37<00:00, 40.44it/s]\n"
     ]
    }
   ],
   "source": [
    "model = PresidioAnalyzerWrapper()\n",
    "model_prediction = model.predict_all(samples = dataset)"
   ]
  },
  {
   "attachments": {},
   "cell_type": "markdown",
   "metadata": {},
   "source": [
    "Run evalution"
   ]
  },
  {
   "cell_type": "code",
   "execution_count": 12,
   "metadata": {},
   "outputs": [
    {
     "name": "stderr",
     "output_type": "stream",
     "text": [
      "Evaluating process....:   0%|          | 0/1500 [00:00<?, ?it/s]\n"
     ]
    },
    {
     "ename": "AttributeError",
     "evalue": "'ModelPrediction' object has no attribute 'annotated_spans'",
     "output_type": "error",
     "traceback": [
      "\u001b[1;31m---------------------------------------------------------------------------\u001b[0m",
      "\u001b[1;31mAttributeError\u001b[0m                            Traceback (most recent call last)",
      "Cell \u001b[1;32mIn [12], line 2\u001b[0m\n\u001b[0;32m      1\u001b[0m evaluator \u001b[39m=\u001b[39m Evaluator(entities_to_keep \u001b[39m=\u001b[39m [\u001b[39m\"\u001b[39m\u001b[39mPERSON\u001b[39m\u001b[39m\"\u001b[39m])\n\u001b[1;32m----> 2\u001b[0m evaluation_result \u001b[39m=\u001b[39m evaluator\u001b[39m.\u001b[39;49mevaluate_all(model_predictions \u001b[39m=\u001b[39;49m model_prediction)\n",
      "File \u001b[1;32mc:\\Users\\thinguy\\.conda\\envs\\presidio\\lib\\site-packages\\presidio_evaluator-0.1.0-py3.9.egg\\presidio_evaluator\\evaluator_2\\evaluator.py:250\u001b[0m, in \u001b[0;36mEvaluator.evaluate_all\u001b[1;34m(self, model_predictions)\u001b[0m\n\u001b[0;32m    245\u001b[0m span_ent_eval \u001b[39m=\u001b[39m {\n\u001b[0;32m    246\u001b[0m     e: deepcopy(span_pii_eval) \u001b[39mfor\u001b[39;00m e \u001b[39min\u001b[39;00m \u001b[39mself\u001b[39m\u001b[39m.\u001b[39mentities_to_keep\n\u001b[0;32m    247\u001b[0m }\n\u001b[0;32m    248\u001b[0m \u001b[39mfor\u001b[39;00m model_prediction \u001b[39min\u001b[39;00m tqdm(model_predictions, desc\u001b[39m=\u001b[39m\u001b[39m\"\u001b[39m\u001b[39mEvaluating process....\u001b[39m\u001b[39m\"\u001b[39m):\n\u001b[0;32m    249\u001b[0m     \u001b[39m# Span evaluation\u001b[39;00m\n\u001b[1;32m--> 250\u001b[0m     annotated_spans \u001b[39m=\u001b[39m model_prediction\u001b[39m.\u001b[39;49mannotated_spans\n\u001b[0;32m    251\u001b[0m     predicted_spans \u001b[39m=\u001b[39m model_prediction\u001b[39m.\u001b[39mpredicted_spans\n\u001b[0;32m    252\u001b[0m     span_outputs \u001b[39m=\u001b[39m \u001b[39mself\u001b[39m\u001b[39m.\u001b[39mget_span_outputs(annotated_spans, predicted_spans)\n",
      "\u001b[1;31mAttributeError\u001b[0m: 'ModelPrediction' object has no attribute 'annotated_spans'"
     ]
    }
   ],
   "source": [
    "evaluator = Evaluator(entities_to_keep = [\"PERSON\"])\n",
    "evaluation_result = evaluator.evaluate_all(model_predictions = model_prediction)"
   ]
  },
  {
   "cell_type": "code",
   "execution_count": 13,
   "metadata": {},
   "outputs": [
    {
     "data": {
      "text/plain": [
       "[]"
      ]
     },
     "execution_count": 13,
     "metadata": {},
     "output_type": "execute_result"
    }
   ],
   "source": [
    "model_prediction[0].predicted_spans"
   ]
  },
  {
   "cell_type": "code",
   "execution_count": 14,
   "metadata": {},
   "outputs": [
    {
     "ename": "AttributeError",
     "evalue": "'ModelPrediction' object has no attribute 'annotated_spans'",
     "output_type": "error",
     "traceback": [
      "\u001b[1;31m---------------------------------------------------------------------------\u001b[0m",
      "\u001b[1;31mAttributeError\u001b[0m                            Traceback (most recent call last)",
      "Cell \u001b[1;32mIn [14], line 1\u001b[0m\n\u001b[1;32m----> 1\u001b[0m model_prediction[\u001b[39m0\u001b[39;49m]\u001b[39m.\u001b[39;49mannotated_spans\n",
      "\u001b[1;31mAttributeError\u001b[0m: 'ModelPrediction' object has no attribute 'annotated_spans'"
     ]
    }
   ],
   "source": [
    "model_prediction[0].annotated_spans"
   ]
  },
  {
   "cell_type": "code",
   "execution_count": null,
   "metadata": {},
   "outputs": [],
   "source": []
  }
 ],
 "metadata": {
  "kernelspec": {
   "display_name": "presidio",
   "language": "python",
   "name": "python3"
  },
  "language_info": {
   "codemirror_mode": {
    "name": "ipython",
    "version": 3
   },
   "file_extension": ".py",
   "mimetype": "text/x-python",
   "name": "python",
   "nbconvert_exporter": "python",
   "pygments_lexer": "ipython3",
   "version": "3.9.13"
  },
  "orig_nbformat": 4,
  "vscode": {
   "interpreter": {
    "hash": "371968787ec79dd50357533864944a85029366968470cac36beb694745c2f7d6"
   }
  }
 },
 "nbformat": 4,
 "nbformat_minor": 2
}
