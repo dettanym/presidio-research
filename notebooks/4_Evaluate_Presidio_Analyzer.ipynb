{
 "cells": [
  {
   "metadata": {},
   "cell_type": "markdown",
   "source": [
    "## Evaluate Presidio Analyzer using the Presidio Evaluator framework\n",
    "\n",
    "This notebook demonstrates how to evaluate a Presidio instance using the presidio-evaluator framework\n",
    "Steps:\n",
    "1. Load dataset from file\n",
    "2. Simple dataset statistics\n",
    "3. Define the AnalyzerEngine object (and its parameters)\n",
    "4. Align the dataset's entities to Presidio's entities\n",
    "5. Set up the Evaluator object\n",
    "6. Run experiment\n",
    "7. Evaluate results\n",
    "8. Error analysis\n",
    "\n",
    "For an example with a custom Presidio instance, see [notebook 5](5_Evaluate_Custom_Presidio_Analyzer.ipynb)."
   ],
   "id": "23e79f98c7395b51"
  },
  {
   "cell_type": "code",
   "id": "b946feda",
   "metadata": {
    "ExecuteTime": {
     "end_time": "2025-03-16T22:37:08.560925Z",
     "start_time": "2025-03-16T22:37:08.541756Z"
    }
   },
   "source": [
    "# install presidio evaluator via pip if not yet installed\n",
    "\n",
    "#!pip install presidio-evaluator"
   ],
   "outputs": [],
   "execution_count": 10
  },
  {
   "cell_type": "code",
   "id": "ae85cae9",
   "metadata": {
    "ExecuteTime": {
     "end_time": "2025-03-16T22:37:08.636652Z",
     "start_time": "2025-03-16T22:37:08.590820Z"
    }
   },
   "source": [
    "from pathlib import Path\n",
    "from pprint import pprint\n",
    "from collections import Counter\n",
    "from typing import Dict, List\n",
    "import json\n",
    "\n",
    "from presidio_analyzer import AnalyzerEngine, RecognizerRegistry\n",
    "from presidio_analyzer.nlp_engine import SpacyNlpEngine, NerModelConfiguration\n",
    "\n",
    "from presidio_evaluator import InputSample\n",
    "from presidio_evaluator.evaluation import Evaluator, ModelError, Plotter\n",
    "from presidio_evaluator.experiment_tracking import get_experiment_tracker\n",
    "from presidio_evaluator.evaluation.plotter_for_multiple_evaluations import PlotterForMultipleEvaluations\n",
    "from presidio_evaluator.models import  PresidioAnalyzerWrapper\n",
    "\n",
    "import pandas as pd\n",
    "\n",
    "pd.set_option(\"display.max_columns\", None)\n",
    "pd.set_option(\"display.max_rows\", None)\n",
    "pd.set_option(\"display.max_colwidth\", None)\n",
    "\n",
    "%reload_ext autoreload\n",
    "%autoreload 2\n",
    "%matplotlib inline"
   ],
   "outputs": [],
   "execution_count": 11
  },
  {
   "cell_type": "markdown",
   "id": "736fdd23",
   "metadata": {},
   "source": [
    "## 1. Load dataset from file"
   ]
  },
  {
   "cell_type": "code",
   "id": "f4cbd55c",
   "metadata": {
    "ExecuteTime": {
     "end_time": "2025-03-16T22:37:17.273155Z",
     "start_time": "2025-03-16T22:37:08.646747Z"
    }
   },
   "source": [
    "# dataset_name = \"presidio_data_generator_masked_keys.json\" #\"synth_dataset_v2.json\"\n",
    "dataset_name = \"presidio_data_generator_random_keys.json\"\n",
    "dataset = InputSample.read_dataset_json(Path(Path.cwd().parent, \"data\", dataset_name))\n",
    "print(len(dataset))"
   ],
   "outputs": [
    {
     "name": "stderr",
     "output_type": "stream",
     "text": [
      "tokenizing input: 100%|██████████| 2000/2000 [00:08<00:00, 233.31it/s]"
     ]
    },
    {
     "name": "stdout",
     "output_type": "stream",
     "text": [
      "2000\n"
     ]
    },
    {
     "name": "stderr",
     "output_type": "stream",
     "text": [
      "\n"
     ]
    }
   ],
   "execution_count": 12
  },
  {
   "cell_type": "markdown",
   "id": "53077517d947cfa",
   "metadata": {},
   "source": [
    "This dataset was auto generated. See more info here [Synthetic data generation](1_Generate_data.ipynb)."
   ]
  },
  {
   "cell_type": "code",
   "id": "c164ea07",
   "metadata": {
    "ExecuteTime": {
     "end_time": "2025-03-16T22:37:17.311892Z",
     "start_time": "2025-03-16T22:37:17.283601Z"
    }
   },
   "source": [
    "def get_entity_counts(dataset: List[InputSample]) -> Dict:\n",
    "    \"\"\"Return a dictionary with counter per entity type.\"\"\"\n",
    "    entity_counter = Counter()\n",
    "    for sample in dataset:\n",
    "        for tag in sample.tags:\n",
    "            entity_counter[tag] += 1\n",
    "    return entity_counter\n"
   ],
   "outputs": [],
   "execution_count": 13
  },
  {
   "cell_type": "markdown",
   "id": "d127b576-b19f-4ba9-b434-16332d9f5f2a",
   "metadata": {},
   "source": [
    "## 2. Simple dataset statistics"
   ]
  },
  {
   "cell_type": "code",
   "id": "77aedae6",
   "metadata": {
    "ExecuteTime": {
     "end_time": "2025-03-16T22:37:17.371065Z",
     "start_time": "2025-03-16T22:37:17.329635Z"
    }
   },
   "source": [
    "entity_counts = get_entity_counts(dataset)\n",
    "print(\"Count per entity:\")\n",
    "pprint(entity_counts.most_common(), compact=True)\n",
    "\n",
    "print(\"\\nMin and max number of tokens in dataset: \"\\\n",
    "f\"Min: {min([len(sample.tokens) for sample in dataset])}, \"\\\n",
    "f\"Max: {max([len(sample.tokens) for sample in dataset])}\")\n",
    "\n",
    "print(f\"Min and max sentence length in dataset: \" \\\n",
    "f\"Min: {min([len(sample.full_text) for sample in dataset])}, \"\\\n",
    "f\"Max: {max([len(sample.full_text) for sample in dataset])}\")\n",
    "\n",
    "print(\"\\nExample InputSample:\")\n",
    "print(dataset[0])"
   ],
   "outputs": [
    {
     "name": "stdout",
     "output_type": "stream",
     "text": [
      "Count per entity:\n",
      "[('O', 25475), ('STREET_ADDRESS', 3856), ('PERSON', 1910),\n",
      " ('ORGANIZATION', 1366), ('GPE', 620), ('PHONE_NUMBER', 518),\n",
      " ('DATE_TIME', 276), ('CREDIT_CARD', 166), ('TITLE', 144), ('US_SSN', 105),\n",
      " ('AGE', 101), ('NRP', 90), ('EMAIL_ADDRESS', 58), ('ZIP_CODE', 48),\n",
      " ('DOMAIN_NAME', 37), ('IP_ADDRESS', 25), ('IBAN_CODE', 18),\n",
      " ('US_DRIVER_LICENSE', 4)]\n",
      "\n",
      "Min and max number of tokens in dataset: Min: 2, Max: 79\n",
      "Min and max sentence length in dataset: Min: 9, Max: 427\n",
      "\n",
      "Example InputSample:\n",
      "Full text: The bus station is on Via Pasquale Scura 127\n",
      "Spans: [Span(type: STREET_ADDRESS, value: Via Pasquale Scura 127, char_span: [22: 44])]\n",
      "\n"
     ]
    }
   ],
   "execution_count": 14
  },
  {
   "cell_type": "code",
   "id": "d6b6b4f3895023d1",
   "metadata": {
    "ExecuteTime": {
     "end_time": "2025-03-16T22:37:17.423502Z",
     "start_time": "2025-03-16T22:37:17.380125Z"
    }
   },
   "source": [
    "print(\"A few examples sentences containing each entity:\\n\")\n",
    "for entity in entity_counts.keys():\n",
    "    samples = [sample for sample in dataset if entity in set(sample.tags)]\n",
    "    if len(samples) > 1 and entity != \"O\":\n",
    "        print(f\"Entity: <{entity}> two example sentences:\\n\"\n",
    "              f\"\\n1) {samples[0].full_text}\"\n",
    "              f\"\\n2) {samples[1].full_text}\"\n",
    "              f\"\\n------------------------------------\\n\")"
   ],
   "outputs": [
    {
     "name": "stdout",
     "output_type": "stream",
     "text": [
      "A few examples sentences containing each entity:\n",
      "\n",
      "Entity: <STREET_ADDRESS> two example sentences:\n",
      "\n",
      "1) The bus station is on Via Pasquale Scura 127\n",
      "2) Csanád had given Csanád his address: 083 254 Damvergi Street, Nicosia\n",
      "------------------------------------\n",
      "\n",
      "Entity: <PERSON> two example sentences:\n",
      "\n",
      "1) Leigha C Mackay\\n\\nLa Sagne\\nSwitzerland\n",
      "2) Csanád had given Csanád his address: 083 254 Damvergi Street, Nicosia\n",
      "------------------------------------\n",
      "\n",
      "Entity: <GPE> two example sentences:\n",
      "\n",
      "1) Leigha C Mackay\\n\\nLa Sagne\\nSwitzerland\n",
      "2) Csanád had given Csanád his address: 083 254 Damvergi Street, Nicosia\n",
      "------------------------------------\n",
      "\n",
      "Entity: <PHONE_NUMBER> two example sentences:\n",
      "\n",
      "1) Can someone call me on 06-82237745? I have some questions about opening an account.\n",
      "2) Francesca Freeman\\n\\n35116 Rua Arapiraca 1943\\n Apt. 559\\n Teixeira de Freitas\\n Brazil 35172\\n(73) 4746-3459-Office\\,781-618-4959-Fax\n",
      "------------------------------------\n",
      "\n",
      "Entity: <CREDIT_CARD> two example sentences:\n",
      "\n",
      "1) Could you please send me the last billed amount for cc 4218196001337 on my e-mail TomaszJablonski@gustr.com?\n",
      "2) My credit card 4276483503056415 has been lost, Can I request you to block it.\n",
      "------------------------------------\n",
      "\n",
      "Entity: <EMAIL_ADDRESS> two example sentences:\n",
      "\n",
      "1) Could you please send me the last billed amount for cc 4218196001337 on my e-mail TomaszJablonski@gustr.com?\n",
      "2) You said your email is MarisaAlvesRocha@teleworm.us. Is that correct?\n",
      "------------------------------------\n",
      "\n",
      "Entity: <AGE> two example sentences:\n",
      "\n",
      "1) You can tell Cecilie was a huge Cecilie Josefsen fan. Written when he was 21.\n",
      "2) This 70 year old female complaining of stomach pain.\n",
      "------------------------------------\n",
      "\n",
      "Entity: <NRP> two example sentences:\n",
      "\n",
      "1) From the film German graffiti (also features Jennifer Eiffel. What's not to love?\n",
      "2) So where are we meeting? There's this nice new Norwegian place downtown. Cool, what's the address? Oh do they serve vegan stuff? It's in 718 Nuussuataap Aqq. 291 Apt. 278 Ilulissat Greenlander\n",
      "------------------------------------\n",
      "\n",
      "Entity: <ORGANIZATION> two example sentences:\n",
      "\n",
      "1) Søren Kleist\\nCOML BK QATAR/GDR 144A\\nKerman and 3240 Meadow Drive\\nMobile: 730 064 218\\nDesk: 07700 316 475\\nFax: (07700)553419\\n\n",
      "2) The address of IIFL Holdings Ltd is the corner of P.O. Box 63 and Pisano Row\n",
      "------------------------------------\n",
      "\n",
      "Entity: <US_SSN> two example sentences:\n",
      "\n",
      "1) His social security number is 643-21-6917\n",
      "2) Here's my SSN: 141-05-4701\n",
      "------------------------------------\n",
      "\n",
      "Entity: <IBAN_CODE> two example sentences:\n",
      "\n",
      "1) Hi Paul, I'm contacting you about a problem I have with sending a wire transfer using this IBAN GB34QIRA18451462704828\n",
      "2) Are there any charges applied for money transfer from GB78QMVR50142940196556 to other bank accounts\n",
      "------------------------------------\n",
      "\n",
      "Entity: <DATE_TIME> two example sentences:\n",
      "\n",
      "1) We'll meet Friday at Avt Natural Products Ltd, 893 Via Leopardi 83, Lirone\n",
      "2) The Petco Animal Supplies Inc. Orchestra was founded in 1990. Since then, it has grown from a volunteer community orchestra to a fully professional orchestra serving Austria\n",
      "------------------------------------\n",
      "\n",
      "Entity: <TITLE> two example sentences:\n",
      "\n",
      "1) Valérie Lafontaine, the Community supervision officer, said: \"I'm glad to hear that this has been withdrawn – quite why they thought this would go down well is beyond me.\"\n",
      "2) My name appears incorrectly on credit card statement could you please correct it to Mr. Russell Tokareva?\n",
      "------------------------------------\n",
      "\n",
      "Entity: <ZIP_CODE> two example sentences:\n",
      "\n",
      "1) ZIP: 32700\n",
      "2) ZIP: 4032\n",
      "------------------------------------\n",
      "\n",
      "Entity: <DOMAIN_NAME> two example sentences:\n",
      "\n",
      "1) Just posted a photo https://www.OpportunityDebt.at/\n",
      "2) Just posted a photo https://BotArticle.es/\n",
      "------------------------------------\n",
      "\n",
      "Entity: <IP_ADDRESS> two example sentences:\n",
      "\n",
      "1) I can't browse to your site, keep getting address 150.162.171.178 blocked error\n",
      "2) Inject SELECT * FROM Users WHERE client_ip = ?%//!%20\\|220.41.9.118|%20/\n",
      "------------------------------------\n",
      "\n",
      "Entity: <US_DRIVER_LICENSE> two example sentences:\n",
      "\n",
      "1) My driver's license number is yo0047868\n",
      "2) My driver's license number is 217223320\n",
      "------------------------------------\n",
      "\n"
     ]
    }
   ],
   "execution_count": 15
  },
  {
   "metadata": {},
   "cell_type": "markdown",
   "source": [
    "## 3. Define the AnalyzerEngine object\n",
    "Using Presidio with default parameters (not recommended, it's used here for simplicity). For an example on customization, see [notebook 5](5_Evaluate_Custom_Presidio_Analyzer.ipynb)"
   ],
   "id": "2ad6617985ce34ab"
  },
  {
   "metadata": {},
   "cell_type": "markdown",
   "source": [
    "## 4. Align the dataset's entities to Presidio's entities\n",
    "\n",
    "There is possibly a difference between the names of entities in the dataset, and the names of entities Presidio can detect.\n",
    "For example, it could be that a dataset labels a name as PER while Presidio returns PERSON. To be able to compare the predicted value to the actual and gather metrics, an alignment between the entity names is necessary. Consider changing the mapping if your dataset and/or Presidio instance supports difference entity types."
   ],
   "id": "4931e3b8cce2d4d5"
  },
  {
   "cell_type": "code",
   "id": "ff2e676f44f72e4e",
   "metadata": {
    "ExecuteTime": {
     "end_time": "2025-03-16T22:37:17.509822Z",
     "start_time": "2025-03-16T22:37:17.434801Z"
    }
   },
   "source": [
    "entities_mapping=PresidioAnalyzerWrapper.presidio_entities_map # default mapping\n",
    "\n",
    "print(\"Using this mapping between the dataset and Presidio's entities:\")\n",
    "pprint(entities_mapping, compact=True)\n",
    "\n",
    "\n",
    "dataset = Evaluator.align_entity_types(\n",
    "    dataset, \n",
    "    entities_mapping=entities_mapping, \n",
    "    allow_missing_mappings=True\n",
    ")\n",
    "new_entity_counts = get_entity_counts(dataset)\n",
    "print(\"\\nCount per entity after alignment:\")\n",
    "pprint(new_entity_counts.most_common(), compact=True)\n",
    "\n",
    "dataset_entities = list(new_entity_counts.values())\n"
   ],
   "outputs": [
    {
     "name": "stdout",
     "output_type": "stream",
     "text": [
      "Using this mapping between the dataset and Presidio's entities:\n",
      "{'ADDRESS': 'LOCATION',\n",
      " 'AGE': 'AGE',\n",
      " 'BIRTHDAY': 'DATE_TIME',\n",
      " 'CITY': 'LOCATION',\n",
      " 'CREDIT_CARD': 'CREDIT_CARD',\n",
      " 'CREDIT_CARD_NUMBER': 'CREDIT_CARD',\n",
      " 'DATE': 'DATE_TIME',\n",
      " 'DATE_OF_BIRTH': 'DATE_TIME',\n",
      " 'DATE_TIME': 'DATE_TIME',\n",
      " 'DOB': 'DATE_TIME',\n",
      " 'DOMAIN': 'URL',\n",
      " 'DOMAIN_NAME': 'URL',\n",
      " 'EMAIL': 'EMAIL_ADDRESS',\n",
      " 'EMAIL_ADDRESS': 'EMAIL_ADDRESS',\n",
      " 'FACILITY': 'LOCATION',\n",
      " 'FIRST_NAME': 'PERSON',\n",
      " 'GPE': 'LOCATION',\n",
      " 'HCW': 'PERSON',\n",
      " 'HOSP': 'ORGANIZATION',\n",
      " 'HOSPITAL': 'ORGANIZATION',\n",
      " 'IBAN': 'IBAN_CODE',\n",
      " 'IBAN_CODE': 'IBAN_CODE',\n",
      " 'ID': 'ID',\n",
      " 'IP_ADDRESS': 'IP_ADDRESS',\n",
      " 'LAST_NAME': 'PERSON',\n",
      " 'LOC': 'LOCATION',\n",
      " 'LOCATION': 'LOCATION',\n",
      " 'NAME': 'PERSON',\n",
      " 'NATIONALITY': 'NRP',\n",
      " 'NORP': 'NRP',\n",
      " 'NRP': 'NRP',\n",
      " 'O': 'O',\n",
      " 'ORG': 'ORGANIZATION',\n",
      " 'ORGANIZATION': 'ORGANIZATION',\n",
      " 'PATIENT': 'PERSON',\n",
      " 'PATORG': 'ORGANIZATION',\n",
      " 'PER': 'PERSON',\n",
      " 'PERSON': 'PERSON',\n",
      " 'PHONE': 'PHONE_NUMBER',\n",
      " 'PHONE_NUMBER': 'PHONE_NUMBER',\n",
      " 'PREFIX': 'TITLE',\n",
      " 'SSN': 'US_SSN',\n",
      " 'STAFF': 'PERSON',\n",
      " 'STREET_ADDRESS': 'LOCATION',\n",
      " 'TIME': 'DATE_TIME',\n",
      " 'TITLE': 'TITLE',\n",
      " 'URL': 'URL',\n",
      " 'US_DRIVER_LICENSE': 'US_DRIVER_LICENSE',\n",
      " 'US_SSN': 'US_SSN',\n",
      " 'VENDOR': 'ORGANIZATION',\n",
      " 'ZIP': 'ZIP_CODE',\n",
      " 'ZIP_CODE': 'ZIP_CODE'}\n",
      "\n",
      "Count per entity after alignment:\n",
      "[('O', 25475), ('LOCATION', 4476), ('PERSON', 1910), ('ORGANIZATION', 1366),\n",
      " ('PHONE_NUMBER', 518), ('DATE_TIME', 276), ('CREDIT_CARD', 166),\n",
      " ('TITLE', 144), ('US_SSN', 105), ('AGE', 101), ('NRP', 90),\n",
      " ('EMAIL_ADDRESS', 58), ('ZIP_CODE', 48), ('URL', 37), ('IP_ADDRESS', 25),\n",
      " ('IBAN_CODE', 18), ('US_DRIVER_LICENSE', 4)]\n"
     ]
    }
   ],
   "execution_count": 16
  },
  {
   "metadata": {},
   "cell_type": "markdown",
   "source": [
    "## 4. Create an AnalyzerEngine object for different thresholds and run the evaluator on that engine\n",
    "Using Presidio with default parameters (not recommended, it's used here for simplicity). For an example on customization, see [notebook 5](5_Evaluate_Custom_Presidio_Analyzer.ipynb)"
   ],
   "id": "850e000f82a399e"
  },
  {
   "metadata": {
    "ExecuteTime": {
     "end_time": "2025-03-16T22:39:48.036562Z",
     "start_time": "2025-03-16T22:37:17.520029Z"
    }
   },
   "cell_type": "code",
   "source": [
    "# Define which model to use\n",
    "model_config = [{\"lang_code\": \"en\", \"model_name\": \"en_core_web_lg\"}]\n",
    "\n",
    "unnecessary_recognizers = [\n",
    "    'NhsRecognizer', 'UkNinoRecognizer', 'SgFinRecognizer', 'AuAbnRecognizer',\n",
    "    'AuAcnRecognizer','AuTfnRecognizer', 'AuMedicareRecognizer', 'InPanRecognizer',\n",
    "    'InAadhaarRecognizer', 'InVehicleRegistrationRecognizer', 'InPassportRecognizer',\n",
    "    'InVoterRecognizer'\n",
    "] + ['UsBankRecognizer', 'UsItinRecognizer', 'MedicalLicenseRecognizer']\n",
    "\n",
    "results_per_threshold = dict.fromkeys([0.3, 0.4, 0.45, 0.5, 0.6, 0.65, 0.7, 0.75, 0.8, 0.85, 0.9])\n",
    "#{0.3:None, 0.4: None, 0.45:None, 0.50:None, 0.6: None, 0.65:None, 0.7: None, 0.75:None, 0.8:None, 0.85: None, 0.9: None}\n",
    "count=1\n",
    "for threshold in results_per_threshold.keys():\n",
    "    ner_model_configuration = NerModelConfiguration(default_score = 0.4)\n",
    "\n",
    "    # Create the NLP Engine based on this configuration\n",
    "    spacy_nlp_engine = SpacyNlpEngine(models= model_config, ner_model_configuration=ner_model_configuration)\n",
    "    spacy_nlp_engine.load()\n",
    "\n",
    "    recognizer_registry = RecognizerRegistry()\n",
    "    recognizer_registry.load_predefined_recognizers(nlp_engine=spacy_nlp_engine)\n",
    "    for rec in unnecessary_recognizers:\n",
    "        recognizer_registry.remove_recognizer(rec)\n",
    "\n",
    "    analyzer_engine = AnalyzerEngine(\n",
    "        default_score_threshold=threshold,\n",
    "        nlp_engine=spacy_nlp_engine,\n",
    "        registry=recognizer_registry,\n",
    "    )\n",
    "    if count == 1:\n",
    "        pprint(f\"Supported entities for English:\")\n",
    "        pprint(analyzer_engine.get_supported_entities(\"en\"), compact=True)\n",
    "\n",
    "        print(f\"\\nLoaded recognizers for English:\")\n",
    "        pprint([rec.name for rec in analyzer_engine.registry.get_recognizers(\"en\", all_fields=True)], compact=True)\n",
    "\n",
    "        print(f\"\\nLoaded NER models:\")\n",
    "        pprint(analyzer_engine.nlp_engine.models)\n",
    "    count += 1\n",
    "    # Create the evaluator object\n",
    "    evaluator = Evaluator(model=analyzer_engine)\n",
    "\n",
    "    ## Run experiment\n",
    "\n",
    "    evaluation_results = evaluator.evaluate_all(dataset, score_threshold=threshold)\n",
    "    results = evaluator.calculate_score(evaluation_results)\n",
    "    results_per_threshold[threshold] = results\n",
    "\n"
   ],
   "id": "f4913a867cff875d",
   "outputs": [
    {
     "name": "stdout",
     "output_type": "stream",
     "text": [
      "'Supported entities for English:'\n",
      "['AU_ABN', 'EMAIL', 'US_ITIN', 'EMAIL_ADDRESS', 'IN_PASSPORT', 'US_BANK_NUMBER',\n",
      " 'PHONE_NUMBER', 'SG_NRIC_FIN', 'PERSON', 'US_SSN', 'AGE', 'IN_AADHAAR',\n",
      " 'IN_PAN', 'AU_MEDICARE', 'CREDIT_CARD', 'URL', 'IN_VOTER', 'NRP', 'CRYPTO',\n",
      " 'LOCATION', 'AU_ACN', 'DATE_TIME', 'US_DRIVER_LICENSE', 'IP_ADDRESS', 'UK_NHS',\n",
      " 'US_PASSPORT', 'IN_VEHICLE_REGISTRATION', 'ID', 'IBAN_CODE', 'MEDICAL_LICENSE',\n",
      " 'UK_NINO', 'AU_TFN']\n",
      "\n",
      "Loaded recognizers for English:\n",
      "['CreditCardRecognizer', 'UsBankRecognizer', 'UsLicenseRecognizer',\n",
      " 'UsItinRecognizer', 'UsPassportRecognizer', 'UsSsnRecognizer', 'NhsRecognizer',\n",
      " 'UkNinoRecognizer', 'SgFinRecognizer', 'AuAbnRecognizer', 'AuAcnRecognizer',\n",
      " 'AuTfnRecognizer', 'AuMedicareRecognizer', 'InPanRecognizer',\n",
      " 'InAadhaarRecognizer', 'InVehicleRegistrationRecognizer',\n",
      " 'InPassportRecognizer', 'CryptoRecognizer', 'DateRecognizer',\n",
      " 'EmailRecognizer', 'IbanRecognizer', 'IpRecognizer',\n",
      " 'MedicalLicenseRecognizer', 'PhoneRecognizer', 'UrlRecognizer',\n",
      " 'InVoterRecognizer', 'SpacyRecognizer']\n",
      "\n",
      "Loaded NER models:\n",
      "[{'lang_code': 'en', 'model_name': 'en_core_web_lg'}]\n",
      "--------\n",
      "Entities supported by this Presidio Analyzer instance:\n",
      "AU_ABN, EMAIL, US_ITIN, EMAIL_ADDRESS, IN_PASSPORT, US_BANK_NUMBER, PHONE_NUMBER, SG_NRIC_FIN, PERSON, US_SSN, AGE, IN_AADHAAR, IN_PAN, AU_MEDICARE, CREDIT_CARD, URL, IN_VOTER, NRP, CRYPTO, LOCATION, AU_ACN, DATE_TIME, US_DRIVER_LICENSE, IP_ADDRESS, UK_NHS, US_PASSPORT, IN_VEHICLE_REGISTRATION, ID, IBAN_CODE, MEDICAL_LICENSE, UK_NINO, AU_TFN\n",
      "Running model PresidioAnalyzerWrapper on dataset...\n",
      "Finished running model on dataset\n",
      "--------\n",
      "Entities supported by this Presidio Analyzer instance:\n",
      "EMAIL, AU_ABN, US_ITIN, EMAIL_ADDRESS, IN_PASSPORT, US_BANK_NUMBER, PHONE_NUMBER, SG_NRIC_FIN, PERSON, US_SSN, AGE, IN_AADHAAR, IN_PAN, AU_MEDICARE, CREDIT_CARD, URL, IN_VOTER, NRP, CRYPTO, LOCATION, AU_ACN, IP_ADDRESS, DATE_TIME, US_DRIVER_LICENSE, UK_NHS, US_PASSPORT, IN_VEHICLE_REGISTRATION, ID, IBAN_CODE, MEDICAL_LICENSE, UK_NINO, AU_TFN\n",
      "Running model PresidioAnalyzerWrapper on dataset...\n",
      "Finished running model on dataset\n",
      "--------\n",
      "Entities supported by this Presidio Analyzer instance:\n",
      "EMAIL, US_ITIN, AU_ABN, EMAIL_ADDRESS, IN_PASSPORT, US_BANK_NUMBER, PHONE_NUMBER, SG_NRIC_FIN, PERSON, US_SSN, AGE, IN_AADHAAR, IN_PAN, AU_MEDICARE, CREDIT_CARD, URL, IN_VOTER, NRP, CRYPTO, LOCATION, AU_ACN, DATE_TIME, US_DRIVER_LICENSE, IP_ADDRESS, UK_NHS, US_PASSPORT, IN_VEHICLE_REGISTRATION, ID, IBAN_CODE, MEDICAL_LICENSE, UK_NINO, AU_TFN\n",
      "Running model PresidioAnalyzerWrapper on dataset...\n",
      "Finished running model on dataset\n",
      "--------\n",
      "Entities supported by this Presidio Analyzer instance:\n",
      "AU_ABN, US_ITIN, EMAIL, EMAIL_ADDRESS, IN_PASSPORT, US_BANK_NUMBER, PHONE_NUMBER, SG_NRIC_FIN, PERSON, US_SSN, AGE, IN_AADHAAR, IN_PAN, AU_MEDICARE, CREDIT_CARD, URL, IN_VOTER, NRP, CRYPTO, AU_ACN, LOCATION, DATE_TIME, US_DRIVER_LICENSE, IP_ADDRESS, UK_NHS, US_PASSPORT, IN_VEHICLE_REGISTRATION, ID, IBAN_CODE, MEDICAL_LICENSE, UK_NINO, AU_TFN\n",
      "Running model PresidioAnalyzerWrapper on dataset...\n",
      "Finished running model on dataset\n",
      "--------\n",
      "Entities supported by this Presidio Analyzer instance:\n",
      "AU_ABN, EMAIL, US_ITIN, EMAIL_ADDRESS, IN_PASSPORT, US_BANK_NUMBER, PHONE_NUMBER, SG_NRIC_FIN, PERSON, US_SSN, AGE, IN_AADHAAR, IN_PAN, AU_MEDICARE, CREDIT_CARD, URL, IN_VOTER, NRP, CRYPTO, AU_ACN, LOCATION, IP_ADDRESS, DATE_TIME, US_DRIVER_LICENSE, UK_NHS, US_PASSPORT, IN_VEHICLE_REGISTRATION, ID, IBAN_CODE, MEDICAL_LICENSE, UK_NINO, AU_TFN\n",
      "Running model PresidioAnalyzerWrapper on dataset...\n",
      "Finished running model on dataset\n",
      "--------\n",
      "Entities supported by this Presidio Analyzer instance:\n",
      "AU_ABN, US_ITIN, EMAIL, EMAIL_ADDRESS, IN_PASSPORT, US_BANK_NUMBER, PHONE_NUMBER, SG_NRIC_FIN, PERSON, US_SSN, AGE, IN_AADHAAR, IN_PAN, AU_MEDICARE, CREDIT_CARD, URL, IN_VOTER, NRP, CRYPTO, AU_ACN, LOCATION, IP_ADDRESS, US_DRIVER_LICENSE, DATE_TIME, UK_NHS, US_PASSPORT, IN_VEHICLE_REGISTRATION, ID, IBAN_CODE, MEDICAL_LICENSE, UK_NINO, AU_TFN\n",
      "Running model PresidioAnalyzerWrapper on dataset...\n",
      "Finished running model on dataset\n",
      "--------\n",
      "Entities supported by this Presidio Analyzer instance:\n",
      "AU_ABN, EMAIL, US_ITIN, EMAIL_ADDRESS, IN_PASSPORT, US_BANK_NUMBER, PHONE_NUMBER, SG_NRIC_FIN, PERSON, US_SSN, AGE, IN_AADHAAR, IN_PAN, AU_MEDICARE, CREDIT_CARD, URL, IN_VOTER, NRP, CRYPTO, AU_ACN, LOCATION, DATE_TIME, US_DRIVER_LICENSE, IP_ADDRESS, UK_NHS, US_PASSPORT, IN_VEHICLE_REGISTRATION, ID, IBAN_CODE, MEDICAL_LICENSE, UK_NINO, AU_TFN\n",
      "Running model PresidioAnalyzerWrapper on dataset...\n",
      "Finished running model on dataset\n",
      "--------\n",
      "Entities supported by this Presidio Analyzer instance:\n",
      "AU_ABN, US_ITIN, EMAIL, EMAIL_ADDRESS, IN_PASSPORT, US_BANK_NUMBER, PHONE_NUMBER, SG_NRIC_FIN, PERSON, US_SSN, AGE, IN_AADHAAR, IN_PAN, AU_MEDICARE, CREDIT_CARD, URL, IN_VOTER, NRP, CRYPTO, AU_ACN, LOCATION, IP_ADDRESS, DATE_TIME, US_DRIVER_LICENSE, UK_NHS, US_PASSPORT, IN_VEHICLE_REGISTRATION, ID, IBAN_CODE, MEDICAL_LICENSE, UK_NINO, AU_TFN\n",
      "Running model PresidioAnalyzerWrapper on dataset...\n",
      "Finished running model on dataset\n",
      "--------\n",
      "Entities supported by this Presidio Analyzer instance:\n",
      "AU_ABN, US_ITIN, EMAIL, EMAIL_ADDRESS, IN_PASSPORT, US_BANK_NUMBER, PHONE_NUMBER, SG_NRIC_FIN, PERSON, US_SSN, AGE, IN_AADHAAR, IN_PAN, AU_MEDICARE, CREDIT_CARD, URL, IN_VOTER, NRP, CRYPTO, AU_ACN, LOCATION, IP_ADDRESS, US_DRIVER_LICENSE, DATE_TIME, UK_NHS, US_PASSPORT, IN_VEHICLE_REGISTRATION, ID, IBAN_CODE, MEDICAL_LICENSE, UK_NINO, AU_TFN\n",
      "Running model PresidioAnalyzerWrapper on dataset...\n",
      "Finished running model on dataset\n",
      "--------\n",
      "Entities supported by this Presidio Analyzer instance:\n",
      "EMAIL, AU_ABN, US_ITIN, EMAIL_ADDRESS, IN_PASSPORT, US_BANK_NUMBER, PHONE_NUMBER, SG_NRIC_FIN, PERSON, US_SSN, AGE, IN_AADHAAR, IN_PAN, AU_MEDICARE, CREDIT_CARD, URL, IN_VOTER, NRP, CRYPTO, LOCATION, AU_ACN, IP_ADDRESS, US_DRIVER_LICENSE, DATE_TIME, UK_NHS, US_PASSPORT, IN_VEHICLE_REGISTRATION, ID, IBAN_CODE, MEDICAL_LICENSE, UK_NINO, AU_TFN\n",
      "Running model PresidioAnalyzerWrapper on dataset...\n",
      "Finished running model on dataset\n",
      "--------\n",
      "Entities supported by this Presidio Analyzer instance:\n",
      "AU_ABN, US_ITIN, EMAIL, EMAIL_ADDRESS, IN_PASSPORT, US_BANK_NUMBER, PHONE_NUMBER, SG_NRIC_FIN, PERSON, US_SSN, AGE, IN_AADHAAR, IN_PAN, AU_MEDICARE, CREDIT_CARD, URL, IN_VOTER, NRP, CRYPTO, AU_ACN, LOCATION, IP_ADDRESS, DATE_TIME, US_DRIVER_LICENSE, UK_NHS, US_PASSPORT, IN_VEHICLE_REGISTRATION, ID, IBAN_CODE, MEDICAL_LICENSE, UK_NINO, AU_TFN\n",
      "Running model PresidioAnalyzerWrapper on dataset...\n",
      "Finished running model on dataset\n"
     ]
    }
   ],
   "execution_count": 17
  },
  {
   "cell_type": "markdown",
   "id": "69c7518b-132c-4bc4-8155-1634ac4173bc",
   "metadata": {},
   "source": [
    "## 7. Evaluate results"
   ]
  },
  {
   "metadata": {
    "ExecuteTime": {
     "end_time": "2025-03-16T23:35:30.966351Z",
     "start_time": "2025-03-16T23:35:28.406403Z"
    }
   },
   "cell_type": "code",
   "source": [
    "plotter = PlotterForMultipleEvaluations(dataset_name, results_per_threshold)\n",
    "plotter.process_multiple_evaluators()\n",
    "\n"
   ],
   "id": "de31a299af19b348",
   "outputs": [
    {
     "name": "stdout",
     "output_type": "stream",
     "text": [
      "AGE\n",
      "                model entity  recall  precision  fpr  count  f2_score  \\\n",
      "14  Presidio Analyzer    AGE     0.0        NaN  0.0    101       NaN   \n",
      "\n",
      "    threshold  \n",
      "14        0.9  \n",
      "CREDIT_CARD\n",
      "               model       entity    recall  precision  fpr  count  f2_score  \\\n",
      "0  Presidio Analyzer  CREDIT_CARD  0.753012        1.0  0.0    166  0.792142   \n",
      "\n",
      "   threshold  \n",
      "0        0.9  \n",
      "DATE_TIME\n",
      "               model     entity    recall  precision       fpr  count  \\\n",
      "7  Presidio Analyzer  DATE_TIME  0.974638   0.396171  0.012548    276   \n",
      "7  Presidio Analyzer  DATE_TIME  0.974638   0.399110  0.012394    276   \n",
      "6  Presidio Analyzer  DATE_TIME  0.608696   0.988235  0.000060    276   \n",
      "6  Presidio Analyzer  DATE_TIME  0.608696   0.988235  0.000060    276   \n",
      "6  Presidio Analyzer  DATE_TIME  0.276423   1.000000  0.000000    246   \n",
      "\n",
      "   f2_score  threshold  \n",
      "7  0.754347        0.3  \n",
      "7  0.756468        0.4  \n",
      "6  0.659341        0.5  \n",
      "6  0.659341        0.6  \n",
      "6  0.323194        0.9  \n",
      "EMAIL_ADDRESS\n",
      "               model         entity  recall  precision  fpr  count  f2_score  \\\n",
      "4  Presidio Analyzer  EMAIL_ADDRESS     1.0        1.0  0.0     58       1.0   \n",
      "\n",
      "   threshold  \n",
      "4        0.9  \n",
      "IBAN_CODE\n",
      "                model     entity  recall  precision  fpr  count  f2_score  \\\n",
      "11  Presidio Analyzer  IBAN_CODE     1.0        1.0  0.0     18       1.0   \n",
      "\n",
      "    threshold  \n",
      "11        0.9  \n",
      "IP_ADDRESS\n",
      "               model      entity  recall  precision       fpr  count  \\\n",
      "8  Presidio Analyzer  IP_ADDRESS    1.00   1.000000  0.000000     25   \n",
      "8  Presidio Analyzer  IP_ADDRESS    1.00   0.892857  0.000091     25   \n",
      "7  Presidio Analyzer  IP_ADDRESS    1.00   0.892857  0.000090     25   \n",
      "7  Presidio Analyzer  IP_ADDRESS    1.00   0.892857  0.000090     25   \n",
      "7  Presidio Analyzer  IP_ADDRESS    0.68   1.000000  0.000000     25   \n",
      "\n",
      "   f2_score  threshold  \n",
      "8  1.000000        0.3  \n",
      "8  0.976563        0.4  \n",
      "7  0.976563        0.5  \n",
      "7  0.976563        0.6  \n",
      "7  0.726496        0.9  \n",
      "LOCATION\n",
      "               model    entity    recall  precision       fpr  count  \\\n",
      "4  Presidio Analyzer  LOCATION  0.155813   0.915921  0.001584   3286   \n",
      "4  Presidio Analyzer  LOCATION  0.155813   0.915921  0.001584   3286   \n",
      "3  Presidio Analyzer  LOCATION  0.000000        NaN  0.000000   3270   \n",
      "\n",
      "   f2_score  threshold  \n",
      "4   0.18682        0.3  \n",
      "4   0.18682        0.4  \n",
      "3       NaN        0.9  \n",
      "NRP\n",
      "               model entity    recall  precision       fpr  count  f2_score  \\\n",
      "3  Presidio Analyzer    NRP  0.764045   0.623853  0.001248     89  0.731183   \n",
      "3  Presidio Analyzer    NRP  0.764045   0.623853  0.001248     89  0.731183   \n",
      "2  Presidio Analyzer    NRP  0.000000        NaN  0.000000     89       NaN   \n",
      "\n",
      "   threshold  \n",
      "3        0.3  \n",
      "3        0.4  \n",
      "2        0.9  \n",
      "PERSON\n",
      "                model  entity   recall  precision       fpr  count  f2_score  \\\n",
      "14  Presidio Analyzer  PERSON  0.78928   0.793869  0.012562   1903  0.790194   \n",
      "14  Presidio Analyzer  PERSON  0.78928   0.793869  0.012561   1903  0.790194   \n",
      "12  Presidio Analyzer  PERSON  0.00000        NaN  0.000000   1893       NaN   \n",
      "\n",
      "    threshold  \n",
      "14        0.3  \n",
      "14        0.4  \n",
      "12        0.9  \n",
      "PHONE_NUMBER\n",
      "                model        entity    recall  precision       fpr  count  \\\n",
      "12  Presidio Analyzer  PHONE_NUMBER  0.462656   0.952991  0.000339    482   \n",
      "12  Presidio Analyzer  PHONE_NUMBER  0.475207   0.954357  0.000339    484   \n",
      "10  Presidio Analyzer  PHONE_NUMBER  0.169336   1.000000  0.000000    437   \n",
      "10  Presidio Analyzer  PHONE_NUMBER  0.000000        NaN  0.000000    424   \n",
      "\n",
      "    f2_score  threshold  \n",
      "12  0.515726       0.30  \n",
      "12  0.528250       0.40  \n",
      "10  0.203074       0.75  \n",
      "10       NaN       0.90  \n",
      "PII\n",
      "                model entity    recall  precision       fpr  count  f2_score  \\\n",
      "19  Presidio Analyzer    PII  0.567634   0.928571  0.010833   6550  0.615481   \n",
      "19  Presidio Analyzer    PII  0.562729   0.939842  0.008939   6552  0.611828   \n",
      "17  Presidio Analyzer    PII  0.097083   0.918248  0.002072   6479  0.118229   \n",
      "16  Presidio Analyzer    PII  0.096774   0.996820  0.000074   6479  0.118101   \n",
      "16  Presidio Analyzer    PII  0.074930   1.000000  0.000000   6446  0.091940   \n",
      "16  Presidio Analyzer    PII  0.063578   1.000000  0.000000   6433  0.078230   \n",
      "16  Presidio Analyzer    PII  0.047567   1.000000  0.000000   6391  0.058760   \n",
      "\n",
      "    threshold  \n",
      "19       0.30  \n",
      "19       0.40  \n",
      "17       0.50  \n",
      "16       0.60  \n",
      "16       0.75  \n",
      "16       0.85  \n",
      "16       0.90  \n",
      "URL\n",
      "               model entity    recall  precision       fpr  count  f2_score  \\\n",
      "2  Presidio Analyzer    URL  1.000000   0.406593  0.001641     37  0.774059   \n",
      "2  Presidio Analyzer    URL  1.000000   0.406593  0.001641     37  0.774059   \n",
      "1  Presidio Analyzer    URL  1.000000   0.406593  0.001613     37  0.774059   \n",
      "1  Presidio Analyzer    URL  1.000000   1.000000  0.000000     37  1.000000   \n",
      "1  Presidio Analyzer    URL  0.264706   1.000000  0.000000     34  0.310345   \n",
      "\n",
      "   threshold  \n",
      "2        0.3  \n",
      "2        0.4  \n",
      "1        0.5  \n",
      "1        0.6  \n",
      "1        0.9  \n",
      "US_DRIVER_LICENSE\n",
      "               model             entity  recall  precision       fpr  count  \\\n",
      "9  Presidio Analyzer  US_DRIVER_LICENSE    1.00   0.043011  0.002701      4   \n",
      "9  Presidio Analyzer  US_DRIVER_LICENSE    1.00   0.571429  0.000091      4   \n",
      "8  Presidio Analyzer  US_DRIVER_LICENSE    0.75   0.600000  0.000060      4   \n",
      "8  Presidio Analyzer  US_DRIVER_LICENSE    0.75   0.600000  0.000060      4   \n",
      "8  Presidio Analyzer  US_DRIVER_LICENSE    0.00        NaN  0.000000      4   \n",
      "\n",
      "   f2_score  threshold  \n",
      "9  0.183486        0.3  \n",
      "9  0.869565        0.4  \n",
      "8  0.714286        0.5  \n",
      "8  0.714286        0.6  \n",
      "8       NaN        0.9  \n",
      "US_SSN\n",
      "                model  entity  recall  precision  fpr  count  f2_score  \\\n",
      "13  Presidio Analyzer  US_SSN     1.0        1.0  0.0    105       1.0   \n",
      "13  Presidio Analyzer  US_SSN     0.0        NaN  0.0     63       NaN   \n",
      "\n",
      "    threshold  \n",
      "13       0.85  \n",
      "13       0.90  \n"
     ]
    },
    {
     "data": {
      "text/plain": [
       "<Figure size 800x600 with 1 Axes>"
      ],
      "image/png": "[encoded data removed]"
     },
     "metadata": {},
     "output_type": "display_data"
    }
   ],
   "execution_count": 46
  },
  {
   "cell_type": "markdown",
   "id": "070f8287",
   "metadata": {},
   "source": [
    "## 8. Error analysis\n",
    "\n",
    "Now let's look into results to understand what's behind the metrics we're getting.\n",
    "Note that evaluation is never perfect. Some things to consider:\n",
    "1. There's often a mismatch between the annotated span and the predicted span, which isn't necessarily a mistake. For example: `<Southern France>` compared with `Southern <France>`. In the second text, the word `Southern` was not annotated/predicted as part of the entity, but that's not necessarily an error.\n",
    "2. Token based evaluation (which is used here) counts the number of true positive / false positive / false negative tokens. Some entities might be broken into more tokens than others. For example, the phone number `222-444-1234` could be broken into five different tokens, whereas `Krishna` would be broken into one token, resulting in phone numbers having more influence on metrics than names.\n",
    "3. The synthetic dataset used here isn't representative of a real dataset. Consider using more realistic datasets for evaluation"
   ]
  },
  {
   "metadata": {
    "ExecuteTime": {
     "end_time": "2025-03-16T22:39:48.803742Z",
     "start_time": "2025-03-16T22:39:48.800802Z"
    }
   },
   "cell_type": "code",
   "source": "",
   "id": "a905f16312f69775",
   "outputs": [],
   "execution_count": null
  }
 ],
 "metadata": {
  "kernelspec": {
   "display_name": "Python 3 (ipykernel)",
   "language": "python",
   "name": "python3"
  },
  "language_info": {
   "codemirror_mode": {
    "name": "ipython",
    "version": 3
   },
   "file_extension": ".py",
   "mimetype": "text/x-python",
   "name": "python",
   "nbconvert_exporter": "python",
   "pygments_lexer": "ipython3",
   "version": "3.9.6"
  }
 },
 "nbformat": 4,
 "nbformat_minor": 5
}
