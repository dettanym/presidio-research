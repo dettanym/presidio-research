{
 "cells": [
  {
   "metadata": {},
   "cell_type": "raw",
   "source": [
    "\\usepackage{ulem}#%% md\n",
    "## Evaluate Presidio Analyzer using the Presidio Evaluator framework\n",
    "\n",
    "This notebook demonstrates how to evaluate a Presidio instance using the presidio-evaluator framework\n",
    "Steps:\n",
    "1. Load dataset from file\n",
    "2. Simple dataset statistics\n",
    "3. Define the AnalyzerEngine object (and its parameters)\n",
    "4. Align the dataset's entities to Presidio's entities\n",
    "5. Set up the Evaluator object\n",
    "6. Run experiment\n",
    "7. Evaluate results\n",
    "8. Error analysis\n",
    "\n",
    "For an example with a custom Presidio instance, see [notebook 5](5_Evaluate_Custom_Presidio_Analyzer.ipynb)."
   ],
   "id": "7b565f28bd5d2d20"
  },
  {
   "cell_type": "code",
   "id": "b946feda",
   "metadata": {
    "ExecuteTime": {
     "end_time": "2025-03-16T21:23:05.391324Z",
     "start_time": "2025-03-16T21:23:05.388434Z"
    }
   },
   "source": [
    "# install presidio evaluator via pip if not yet installed\n",
    "\n",
    "#!pip install presidio-evaluator"
   ],
   "outputs": [],
   "execution_count": 1
  },
  {
   "cell_type": "code",
   "id": "ae85cae9",
   "metadata": {
    "ExecuteTime": {
     "end_time": "2025-03-16T21:23:06.704509Z",
     "start_time": "2025-03-16T21:23:05.445908Z"
    }
   },
   "source": [
    "from pathlib import Path\n",
    "from pprint import pprint\n",
    "from collections import Counter\n",
    "from typing import Dict, List\n",
    "import json\n",
    "\n",
    "from presidio_evaluator import InputSample\n",
    "from presidio_evaluator.evaluation import Evaluator, ModelError, Plotter\n",
    "from presidio_evaluator.experiment_tracking import get_experiment_tracker\n",
    "\n",
    "import pandas as pd\n",
    "\n",
    "pd.set_option(\"display.max_columns\", None)\n",
    "pd.set_option(\"display.max_rows\", None)\n",
    "pd.set_option(\"display.max_colwidth\", None)\n",
    "\n",
    "%reload_ext autoreload\n",
    "%autoreload 2\n",
    "%matplotlib inline"
   ],
   "outputs": [
    {
     "name": "stdout",
     "output_type": "stream",
     "text": [
      "stanza and spacy_stanza are not installed\n",
      "Flair is not installed by default\n"
     ]
    }
   ],
   "execution_count": 2
  },
  {
   "cell_type": "markdown",
   "id": "736fdd23",
   "metadata": {},
   "source": [
    "## 1. Load dataset from file"
   ]
  },
  {
   "cell_type": "code",
   "id": "f4cbd55c",
   "metadata": {
    "ExecuteTime": {
     "end_time": "2025-03-16T21:23:17.565768Z",
     "start_time": "2025-03-16T21:23:06.791488Z"
    }
   },
   "source": [
    "dataset_name = \"presidio_data_generator_masked_keys.json\" #\"synth_dataset_v2.json\"\n",
    "dataset = InputSample.read_dataset_json(Path(Path.cwd().parent, \"data\", dataset_name))\n",
    "print(len(dataset))"
   ],
   "outputs": [
    {
     "name": "stderr",
     "output_type": "stream",
     "text": [
      "tokenizing input:   0%|          | 0/2000 [00:00<?, ?it/s]"
     ]
    },
    {
     "name": "stdout",
     "output_type": "stream",
     "text": [
      "loading model en_core_web_sm\n"
     ]
    },
    {
     "name": "stderr",
     "output_type": "stream",
     "text": [
      "tokenizing input: 100%|██████████| 2000/2000 [00:10<00:00, 186.27it/s]"
     ]
    },
    {
     "name": "stdout",
     "output_type": "stream",
     "text": [
      "2000\n"
     ]
    },
    {
     "name": "stderr",
     "output_type": "stream",
     "text": [
      "\n"
     ]
    }
   ],
   "execution_count": 3
  },
  {
   "cell_type": "markdown",
   "id": "53077517d947cfa",
   "metadata": {},
   "source": [
    "This dataset was auto generated. See more info here [Synthetic data generation](1_Generate_data.ipynb)."
   ]
  },
  {
   "cell_type": "code",
   "id": "c164ea07",
   "metadata": {
    "ExecuteTime": {
     "end_time": "2025-03-16T21:23:17.591401Z",
     "start_time": "2025-03-16T21:23:17.573109Z"
    }
   },
   "source": [
    "def get_entity_counts(dataset: List[InputSample]) -> Dict:\n",
    "    \"\"\"Return a dictionary with counter per entity type.\"\"\"\n",
    "    entity_counter = Counter()\n",
    "    for sample in dataset:\n",
    "        for tag in sample.tags:\n",
    "            entity_counter[tag] += 1\n",
    "    return entity_counter\n"
   ],
   "outputs": [],
   "execution_count": 4
  },
  {
   "cell_type": "markdown",
   "id": "d127b576-b19f-4ba9-b434-16332d9f5f2a",
   "metadata": {},
   "source": [
    "## 2. Simple dataset statistics"
   ]
  },
  {
   "cell_type": "code",
   "id": "77aedae6",
   "metadata": {
    "ExecuteTime": {
     "end_time": "2025-03-16T21:23:17.657238Z",
     "start_time": "2025-03-16T21:23:17.624844Z"
    }
   },
   "source": [
    "entity_counts = get_entity_counts(dataset)\n",
    "print(\"Count per entity:\")\n",
    "pprint(entity_counts.most_common(), compact=True)\n",
    "\n",
    "print(\"\\nMin and max number of tokens in dataset: \"\\\n",
    "f\"Min: {min([len(sample.tokens) for sample in dataset])}, \"\\\n",
    "f\"Max: {max([len(sample.tokens) for sample in dataset])}\")\n",
    "\n",
    "print(f\"Min and max sentence length in dataset: \" \\\n",
    "f\"Min: {min([len(sample.full_text) for sample in dataset])}, \"\\\n",
    "f\"Max: {max([len(sample.full_text) for sample in dataset])}\")\n",
    "\n",
    "print(\"\\nExample InputSample:\")\n",
    "print(dataset[0])"
   ],
   "outputs": [
    {
     "name": "stdout",
     "output_type": "stream",
     "text": [
      "Count per entity:\n",
      "[('O', 25475), ('STREET_ADDRESS', 3856), ('PERSON', 1910),\n",
      " ('ORGANIZATION', 1366), ('GPE', 620), ('PHONE_NUMBER', 518),\n",
      " ('DATE_TIME', 276), ('CREDIT_CARD', 166), ('TITLE', 144), ('US_SSN', 105),\n",
      " ('AGE', 101), ('NRP', 90), ('EMAIL_ADDRESS', 58), ('ZIP_CODE', 48),\n",
      " ('DOMAIN_NAME', 37), ('IP_ADDRESS', 25), ('IBAN_CODE', 18),\n",
      " ('US_DRIVER_LICENSE', 4)]\n",
      "\n",
      "Min and max number of tokens in dataset: Min: 2, Max: 79\n",
      "Min and max sentence length in dataset: Min: 9, Max: 427\n",
      "\n",
      "Example InputSample:\n",
      "Full text: The bus station is on Via Pasquale Scura 127\n",
      "Spans: [Span(type: STREET_ADDRESS, value: Via Pasquale Scura 127, char_span: [22: 44])]\n",
      "\n"
     ]
    }
   ],
   "execution_count": 5
  },
  {
   "cell_type": "code",
   "id": "d6b6b4f3895023d1",
   "metadata": {
    "ExecuteTime": {
     "end_time": "2025-03-16T21:23:17.711379Z",
     "start_time": "2025-03-16T21:23:17.671434Z"
    }
   },
   "source": [
    "print(\"A few examples sentences containing each entity:\\n\")\n",
    "for entity in entity_counts.keys():\n",
    "    samples = [sample for sample in dataset if entity in set(sample.tags)]\n",
    "    if len(samples) > 1 and entity != \"O\":\n",
    "        print(f\"Entity: <{entity}> two example sentences:\\n\"\n",
    "              f\"\\n1) {samples[0].full_text}\"\n",
    "              f\"\\n2) {samples[1].full_text}\"\n",
    "              f\"\\n------------------------------------\\n\")"
   ],
   "outputs": [
    {
     "name": "stdout",
     "output_type": "stream",
     "text": [
      "A few examples sentences containing each entity:\n",
      "\n",
      "Entity: <STREET_ADDRESS> two example sentences:\n",
      "\n",
      "1) The bus station is on Via Pasquale Scura 127\n",
      "2) Csanád had given Csanád his address: 083 254 Damvergi Street, Nicosia\n",
      "------------------------------------\n",
      "\n",
      "Entity: <PERSON> two example sentences:\n",
      "\n",
      "1) Leigha C Mackay\\n\\nLa Sagne\\nSwitzerland\n",
      "2) Csanád had given Csanád his address: 083 254 Damvergi Street, Nicosia\n",
      "------------------------------------\n",
      "\n",
      "Entity: <GPE> two example sentences:\n",
      "\n",
      "1) Leigha C Mackay\\n\\nLa Sagne\\nSwitzerland\n",
      "2) Csanád had given Csanád his address: 083 254 Damvergi Street, Nicosia\n",
      "------------------------------------\n",
      "\n",
      "Entity: <PHONE_NUMBER> two example sentences:\n",
      "\n",
      "1) Can someone call me on 06-82237745? I have some questions about opening an account.\n",
      "2) Francesca Freeman\\n\\n35116 Rua Arapiraca 1943\\n Apt. 559\\n Teixeira de Freitas\\n Brazil 35172\\n(73) 4746-3459-Office\\,781-618-4959-Fax\n",
      "------------------------------------\n",
      "\n",
      "Entity: <CREDIT_CARD> two example sentences:\n",
      "\n",
      "1) Could you please send me the last billed amount for cc 4218196001337 on my e-mail TomaszJablonski@gustr.com?\n",
      "2) My credit card 4276483503056415 has been lost, Can I request you to block it.\n",
      "------------------------------------\n",
      "\n",
      "Entity: <EMAIL_ADDRESS> two example sentences:\n",
      "\n",
      "1) Could you please send me the last billed amount for cc 4218196001337 on my e-mail TomaszJablonski@gustr.com?\n",
      "2) You said your email is MarisaAlvesRocha@teleworm.us. Is that correct?\n",
      "------------------------------------\n",
      "\n",
      "Entity: <AGE> two example sentences:\n",
      "\n",
      "1) You can tell Cecilie was a huge Cecilie Josefsen fan. Written when he was 21.\n",
      "2) This 70 year old female complaining of stomach pain.\n",
      "------------------------------------\n",
      "\n",
      "Entity: <NRP> two example sentences:\n",
      "\n",
      "1) From the film German graffiti (also features Jennifer Eiffel. What's not to love?\n",
      "2) So where are we meeting? There's this nice new Norwegian place downtown. Cool, what's the address? Oh do they serve vegan stuff? It's in 718 Nuussuataap Aqq. 291 Apt. 278 Ilulissat Greenlander\n",
      "------------------------------------\n",
      "\n",
      "Entity: <ORGANIZATION> two example sentences:\n",
      "\n",
      "1) Søren Kleist\\nCOML BK QATAR/GDR 144A\\nKerman and 3240 Meadow Drive\\nMobile: 730 064 218\\nDesk: 07700 316 475\\nFax: (07700)553419\\n\n",
      "2) The address of IIFL Holdings Ltd is the corner of P.O. Box 63 and Pisano Row\n",
      "------------------------------------\n",
      "\n",
      "Entity: <US_SSN> two example sentences:\n",
      "\n",
      "1) His social security number is 643-21-6917\n",
      "2) Here's my SSN: 141-05-4701\n",
      "------------------------------------\n",
      "\n",
      "Entity: <IBAN_CODE> two example sentences:\n",
      "\n",
      "1) Hi Paul, I'm contacting you about a problem I have with sending a wire transfer using this IBAN GB34QIRA18451462704828\n",
      "2) Are there any charges applied for money transfer from GB78QMVR50142940196556 to other bank accounts\n",
      "------------------------------------\n",
      "\n",
      "Entity: <DATE_TIME> two example sentences:\n",
      "\n",
      "1) We'll meet Friday at Avt Natural Products Ltd, 893 Via Leopardi 83, Lirone\n",
      "2) The Petco Animal Supplies Inc. Orchestra was founded in 1990. Since then, it has grown from a volunteer community orchestra to a fully professional orchestra serving Austria\n",
      "------------------------------------\n",
      "\n",
      "Entity: <TITLE> two example sentences:\n",
      "\n",
      "1) Valérie Lafontaine, the Community supervision officer, said: \"I'm glad to hear that this has been withdrawn – quite why they thought this would go down well is beyond me.\"\n",
      "2) My name appears incorrectly on credit card statement could you please correct it to Mr. Russell Tokareva?\n",
      "------------------------------------\n",
      "\n",
      "Entity: <ZIP_CODE> two example sentences:\n",
      "\n",
      "1) ZIP: 32700\n",
      "2) ZIP: 4032\n",
      "------------------------------------\n",
      "\n",
      "Entity: <DOMAIN_NAME> two example sentences:\n",
      "\n",
      "1) Just posted a photo https://www.OpportunityDebt.at/\n",
      "2) Just posted a photo https://BotArticle.es/\n",
      "------------------------------------\n",
      "\n",
      "Entity: <IP_ADDRESS> two example sentences:\n",
      "\n",
      "1) I can't browse to your site, keep getting address 150.162.171.178 blocked error\n",
      "2) Inject SELECT * FROM Users WHERE client_ip = ?%//!%20\\|220.41.9.118|%20/\n",
      "------------------------------------\n",
      "\n",
      "Entity: <US_DRIVER_LICENSE> two example sentences:\n",
      "\n",
      "1) My driver's license number is yo0047868\n",
      "2) My driver's license number is 217223320\n",
      "------------------------------------\n",
      "\n"
     ]
    }
   ],
   "execution_count": 6
  },
  {
   "metadata": {},
   "cell_type": "markdown",
   "source": [
    "## 3. Define the AnalyzerEngine object\n",
    "Using Presidio with default parameters (not recommended, it's used here for simplicity). For an example on customization, see [notebook 5](5_Evaluate_Custom_Presidio_Analyzer.ipynb)"
   ],
   "id": "2ad6617985ce34ab"
  },
  {
   "metadata": {},
   "cell_type": "markdown",
   "source": [
    "## 4. Align the dataset's entities to Presidio's entities\n",
    "\n",
    "There is possibly a difference between the names of entities in the dataset, and the names of entities Presidio can detect.\n",
    "For example, it could be that a dataset labels a name as PER while Presidio returns PERSON. To be able to compare the predicted value to the actual and gather metrics, an alignment between the entity names is necessary. Consider changing the mapping if your dataset and/or Presidio instance supports difference entity types."
   ],
   "id": "4931e3b8cce2d4d5"
  },
  {
   "cell_type": "code",
   "id": "ff2e676f44f72e4e",
   "metadata": {
    "ExecuteTime": {
     "end_time": "2025-03-16T21:23:17.783796Z",
     "start_time": "2025-03-16T21:23:17.722372Z"
    }
   },
   "source": [
    "from presidio_evaluator.models import  PresidioAnalyzerWrapper\n",
    "\n",
    "entities_mapping=PresidioAnalyzerWrapper.presidio_entities_map # default mapping\n",
    "\n",
    "print(\"Using this mapping between the dataset and Presidio's entities:\")\n",
    "pprint(entities_mapping, compact=True)\n",
    "\n",
    "\n",
    "dataset = Evaluator.align_entity_types(\n",
    "    dataset, \n",
    "    entities_mapping=entities_mapping, \n",
    "    allow_missing_mappings=True\n",
    ")\n",
    "new_entity_counts = get_entity_counts(dataset)\n",
    "print(\"\\nCount per entity after alignment:\")\n",
    "pprint(new_entity_counts.most_common(), compact=True)\n",
    "\n",
    "dataset_entities = list(new_entity_counts.values())\n"
   ],
   "outputs": [
    {
     "name": "stdout",
     "output_type": "stream",
     "text": [
      "Using this mapping between the dataset and Presidio's entities:\n",
      "{'ADDRESS': 'LOCATION',\n",
      " 'AGE': 'AGE',\n",
      " 'BIRTHDAY': 'DATE_TIME',\n",
      " 'CITY': 'LOCATION',\n",
      " 'CREDIT_CARD': 'CREDIT_CARD',\n",
      " 'CREDIT_CARD_NUMBER': 'CREDIT_CARD',\n",
      " 'DATE': 'DATE_TIME',\n",
      " 'DATE_OF_BIRTH': 'DATE_TIME',\n",
      " 'DATE_TIME': 'DATE_TIME',\n",
      " 'DOB': 'DATE_TIME',\n",
      " 'DOMAIN': 'URL',\n",
      " 'DOMAIN_NAME': 'URL',\n",
      " 'EMAIL': 'EMAIL_ADDRESS',\n",
      " 'EMAIL_ADDRESS': 'EMAIL_ADDRESS',\n",
      " 'FACILITY': 'LOCATION',\n",
      " 'FIRST_NAME': 'PERSON',\n",
      " 'GPE': 'LOCATION',\n",
      " 'HCW': 'PERSON',\n",
      " 'HOSP': 'ORGANIZATION',\n",
      " 'HOSPITAL': 'ORGANIZATION',\n",
      " 'IBAN': 'IBAN_CODE',\n",
      " 'IBAN_CODE': 'IBAN_CODE',\n",
      " 'ID': 'ID',\n",
      " 'IP_ADDRESS': 'IP_ADDRESS',\n",
      " 'LAST_NAME': 'PERSON',\n",
      " 'LOC': 'LOCATION',\n",
      " 'LOCATION': 'LOCATION',\n",
      " 'NAME': 'PERSON',\n",
      " 'NATIONALITY': 'NRP',\n",
      " 'NORP': 'NRP',\n",
      " 'NRP': 'NRP',\n",
      " 'O': 'O',\n",
      " 'ORG': 'ORGANIZATION',\n",
      " 'ORGANIZATION': 'ORGANIZATION',\n",
      " 'PATIENT': 'PERSON',\n",
      " 'PATORG': 'ORGANIZATION',\n",
      " 'PER': 'PERSON',\n",
      " 'PERSON': 'PERSON',\n",
      " 'PHONE': 'PHONE_NUMBER',\n",
      " 'PHONE_NUMBER': 'PHONE_NUMBER',\n",
      " 'PREFIX': 'TITLE',\n",
      " 'SSN': 'US_SSN',\n",
      " 'STAFF': 'PERSON',\n",
      " 'STREET_ADDRESS': 'LOCATION',\n",
      " 'TIME': 'DATE_TIME',\n",
      " 'TITLE': 'TITLE',\n",
      " 'URL': 'URL',\n",
      " 'US_DRIVER_LICENSE': 'US_DRIVER_LICENSE',\n",
      " 'US_SSN': 'US_SSN',\n",
      " 'VENDOR': 'ORGANIZATION',\n",
      " 'ZIP': 'ZIP_CODE',\n",
      " 'ZIP_CODE': 'ZIP_CODE'}\n",
      "\n",
      "Count per entity after alignment:\n",
      "[('O', 25475), ('LOCATION', 4476), ('PERSON', 1910), ('ORGANIZATION', 1366),\n",
      " ('PHONE_NUMBER', 518), ('DATE_TIME', 276), ('CREDIT_CARD', 166),\n",
      " ('TITLE', 144), ('US_SSN', 105), ('AGE', 101), ('NRP', 90),\n",
      " ('EMAIL_ADDRESS', 58), ('ZIP_CODE', 48), ('URL', 37), ('IP_ADDRESS', 25),\n",
      " ('IBAN_CODE', 18), ('US_DRIVER_LICENSE', 4)]\n"
     ]
    }
   ],
   "execution_count": 7
  },
  {
   "metadata": {},
   "cell_type": "markdown",
   "source": [
    "## 4. Create an AnalyzerEngine object for different thresholds and run the evaluator on that engine\n",
    "Using Presidio with default parameters (not recommended, it's used here for simplicity). For an example on customization, see [notebook 5](5_Evaluate_Custom_Presidio_Analyzer.ipynb)"
   ],
   "id": "850e000f82a399e"
  },
  {
   "metadata": {
    "jupyter": {
     "is_executing": true
    },
    "ExecuteTime": {
     "start_time": "2025-03-16T21:28:53.373994Z"
    }
   },
   "cell_type": "code",
   "source": [
    "from presidio_analyzer import AnalyzerEngine\n",
    "from presidio_analyzer.nlp_engine import SpacyNlpEngine, NerModelConfiguration\n",
    "\n",
    "# Define which model to use\n",
    "model_config = [{\"lang_code\": \"en\", \"model_name\": \"en_core_web_lg\"}]\n",
    "\n",
    "results_per_threshold = dict.fromkeys([0.3, 0.4, 0.45, 0.5, 0.6, 0.65, 0.7, 0.75, 0.8, 0.85, 0.9])\n",
    "#{0.3:None, 0.4: None, 0.45:None, 0.50:None, 0.6: None, 0.65:None, 0.7: None, 0.75:None, 0.8:None, 0.85: None, 0.9: None}\n",
    "count=1\n",
    "for threshold in results_per_threshold.keys():\n",
    "    ner_model_configuration = NerModelConfiguration(default_score = 0.4)\n",
    "\n",
    "    # Create the NLP Engine based on this configuration\n",
    "    spacy_nlp_engine = SpacyNlpEngine(models= model_config, ner_model_configuration=ner_model_configuration)\n",
    "    analyzer_engine = AnalyzerEngine(default_score_threshold=threshold, nlp_engine=spacy_nlp_engine)\n",
    "    if count == 1:\n",
    "        pprint(f\"Supported entities for English:\")\n",
    "        pprint(analyzer_engine.get_supported_entities(\"en\"), compact=True)\n",
    "\n",
    "        print(f\"\\nLoaded recognizers for English:\")\n",
    "        pprint([rec.name for rec in analyzer_engine.registry.get_recognizers(\"en\", all_fields=True)], compact=True)\n",
    "\n",
    "        print(f\"\\nLoaded NER models:\")\n",
    "        pprint(analyzer_engine.nlp_engine.models)\n",
    "    count += 1\n",
    "    # Create the evaluator object\n",
    "    evaluator = Evaluator(model=analyzer_engine)\n",
    "\n",
    "    ## Run experiment\n",
    "\n",
    "    evaluation_results = evaluator.evaluate_all(dataset, score_threshold=threshold)\n",
    "    results = evaluator.calculate_score(evaluation_results)\n",
    "    results_per_threshold[threshold] = results\n",
    "\n"
   ],
   "id": "f4913a867cff875d",
   "outputs": [
    {
     "name": "stdout",
     "output_type": "stream",
     "text": [
      "'Supported entities for English:'\n",
      "['IN_PAN', 'AU_MEDICARE', 'US_SSN', 'CRYPTO', 'NRP', 'PERSON', 'IN_VOTER',\n",
      " 'MEDICAL_LICENSE', 'US_PASSPORT', 'AU_ABN', 'UK_NINO', 'IBAN_CODE', 'EMAIL',\n",
      " 'AU_ACN', 'EMAIL_ADDRESS', 'AGE', 'LOCATION', 'IN_AADHAAR', 'SG_NRIC_FIN',\n",
      " 'PHONE_NUMBER', 'AU_TFN', 'IP_ADDRESS', 'CREDIT_CARD', 'UK_NHS', 'US_ITIN',\n",
      " 'IN_VEHICLE_REGISTRATION', 'DATE_TIME', 'IN_PASSPORT', 'ID', 'URL',\n",
      " 'US_BANK_NUMBER', 'US_DRIVER_LICENSE']\n",
      "\n",
      "Loaded recognizers for English:\n",
      "['CreditCardRecognizer', 'UsBankRecognizer', 'UsLicenseRecognizer',\n",
      " 'UsItinRecognizer', 'UsPassportRecognizer', 'UsSsnRecognizer', 'NhsRecognizer',\n",
      " 'UkNinoRecognizer', 'SgFinRecognizer', 'AuAbnRecognizer', 'AuAcnRecognizer',\n",
      " 'AuTfnRecognizer', 'AuMedicareRecognizer', 'InPanRecognizer',\n",
      " 'InAadhaarRecognizer', 'InVehicleRegistrationRecognizer',\n",
      " 'InPassportRecognizer', 'CryptoRecognizer', 'DateRecognizer',\n",
      " 'EmailRecognizer', 'IbanRecognizer', 'IpRecognizer',\n",
      " 'MedicalLicenseRecognizer', 'PhoneRecognizer', 'UrlRecognizer',\n",
      " 'InVoterRecognizer', 'SpacyRecognizer']\n",
      "\n",
      "Loaded NER models:\n",
      "[{'lang_code': 'en', 'model_name': 'en_core_web_lg'}]\n",
      "--------\n",
      "Entities supported by this Presidio Analyzer instance:\n",
      "IN_PAN, AU_MEDICARE, US_SSN, CRYPTO, NRP, PERSON, IN_VOTER, MEDICAL_LICENSE, US_PASSPORT, AU_ABN, UK_NINO, IBAN_CODE, EMAIL, AU_ACN, EMAIL_ADDRESS, AGE, LOCATION, IN_AADHAAR, SG_NRIC_FIN, PHONE_NUMBER, AU_TFN, IP_ADDRESS, CREDIT_CARD, UK_NHS, US_ITIN, IN_VEHICLE_REGISTRATION, DATE_TIME, IN_PASSPORT, ID, URL, US_BANK_NUMBER, US_DRIVER_LICENSE\n",
      "Running model PresidioAnalyzerWrapper on dataset...\n",
      "Finished running model on dataset\n",
      "--------\n",
      "Entities supported by this Presidio Analyzer instance:\n",
      "IN_PAN, AU_MEDICARE, US_SSN, CRYPTO, NRP, PERSON, IN_VOTER, MEDICAL_LICENSE, US_PASSPORT, AU_ABN, UK_NINO, IBAN_CODE, EMAIL, AU_ACN, EMAIL_ADDRESS, AGE, LOCATION, IN_AADHAAR, SG_NRIC_FIN, PHONE_NUMBER, AU_TFN, IP_ADDRESS, CREDIT_CARD, US_ITIN, UK_NHS, IN_VEHICLE_REGISTRATION, DATE_TIME, IN_PASSPORT, ID, URL, US_BANK_NUMBER, US_DRIVER_LICENSE\n",
      "Running model PresidioAnalyzerWrapper on dataset...\n"
     ]
    }
   ],
   "execution_count": null
  },
  {
   "cell_type": "markdown",
   "id": "69c7518b-132c-4bc4-8155-1634ac4173bc",
   "metadata": {},
   "source": [
    "## 7. Evaluate results"
   ]
  },
  {
   "metadata": {
    "ExecuteTime": {
     "end_time": "2025-03-16T21:27:47.849046Z",
     "start_time": "2025-03-16T21:26:37.802433Z"
    }
   },
   "cell_type": "code",
   "source": [
    "from presidio_evaluator.evaluation.plot_multiple_eval_results import PlotterForMultipleEvaluations\n",
    "\n",
    "plotter = PlotterForMultipleEvaluations(dataset_name, results_per_threshold)\n",
    "plotter.process_multiple_evaluators()\n",
    "\n"
   ],
   "id": "de31a299af19b348",
   "outputs": [
    {
     "name": "stdout",
     "output_type": "stream",
     "text": [
      "AGE\n",
      "               model entity  recall  precision  fpr  count  f2_score  \\\n",
      "1  Presidio Analyzer    AGE     0.0        NaN  0.0    101       NaN   \n",
      "\n",
      "   threshold  \n",
      "1        0.9  \n",
      "CREDIT_CARD\n",
      "               model       entity    recall  precision  fpr  count  f2_score  \\\n",
      "9  Presidio Analyzer  CREDIT_CARD  0.753012        1.0  0.0    166  0.792142   \n",
      "\n",
      "   threshold  \n",
      "9        0.9  \n",
      "DATE_TIME\n",
      "                model     entity    recall  precision       fpr  count  \\\n",
      "14  Presidio Analyzer  DATE_TIME  0.974638   0.413846  0.011659    276   \n",
      "13  Presidio Analyzer  DATE_TIME  0.608696   0.994083  0.000030    276   \n",
      "12  Presidio Analyzer  DATE_TIME  0.608696   0.994083  0.000030    276   \n",
      "12  Presidio Analyzer  DATE_TIME  0.469231   1.000000  0.000000    260   \n",
      "\n",
      "    f2_score  threshold  \n",
      "14  0.766819        0.4  \n",
      "13  0.659859        0.5  \n",
      "12  0.659859        0.6  \n",
      "12  0.524957        0.9  \n",
      "EMAIL_ADDRESS\n",
      "               model         entity  recall  precision  fpr  count  f2_score  \\\n",
      "0  Presidio Analyzer  EMAIL_ADDRESS     1.0        1.0  0.0     58       1.0   \n",
      "\n",
      "   threshold  \n",
      "0        0.9  \n",
      "IBAN_CODE\n",
      "                model     entity  recall  precision  fpr  count  f2_score  \\\n",
      "11  Presidio Analyzer  IBAN_CODE     1.0        1.0  0.0     18       1.0   \n",
      "\n",
      "    threshold  \n",
      "11        0.9  \n",
      "IP_ADDRESS\n",
      "               model      entity  recall  precision       fpr  count  \\\n",
      "9  Presidio Analyzer  IP_ADDRESS     1.0   0.892857  0.000091     25   \n",
      "8  Presidio Analyzer  IP_ADDRESS     1.0   0.892857  0.000090     25   \n",
      "8  Presidio Analyzer  IP_ADDRESS     1.0   0.892857  0.000090     25   \n",
      "8  Presidio Analyzer  IP_ADDRESS     1.0   1.000000  0.000000     25   \n",
      "\n",
      "   f2_score  threshold  \n",
      "9  0.976563        0.4  \n",
      "8  0.976563        0.5  \n",
      "8  0.976563        0.6  \n",
      "8  1.000000        0.9  \n",
      "LOCATION\n",
      "               model    entity    recall  precision       fpr  count  \\\n",
      "3  Presidio Analyzer  LOCATION  0.155813   0.915921  0.001584   3286   \n",
      "2  Presidio Analyzer  LOCATION  0.000000        NaN  0.000000   3270   \n",
      "\n",
      "   f2_score  threshold  \n",
      "3   0.18682        0.4  \n",
      "2       NaN        0.9  \n",
      "NRP\n",
      "               model entity    recall  precision       fpr  count  f2_score  \\\n",
      "6  Presidio Analyzer    NRP  0.764045   0.623853  0.001247     89  0.731183   \n",
      "5  Presidio Analyzer    NRP  0.000000        NaN  0.000000     89       NaN   \n",
      "\n",
      "   threshold  \n",
      "6        0.4  \n",
      "5        0.9  \n",
      "PERSON\n",
      "               model  entity   recall  precision      fpr  count  f2_score  \\\n",
      "8  Presidio Analyzer  PERSON  0.78928   0.793869  0.01256   1903  0.790194   \n",
      "7  Presidio Analyzer  PERSON  0.00000        NaN  0.00000   1893       NaN   \n",
      "\n",
      "   threshold  \n",
      "8        0.4  \n",
      "7        0.9  \n",
      "PHONE_NUMBER\n",
      "               model        entity    recall  precision       fpr  count  \\\n",
      "7  Presidio Analyzer  PHONE_NUMBER  0.527721   0.958955  0.000339    487   \n",
      "6  Presidio Analyzer  PHONE_NUMBER  0.427350   0.985222  0.000091    468   \n",
      "6  Presidio Analyzer  PHONE_NUMBER  0.427350   0.985222  0.000091    468   \n",
      "6  Presidio Analyzer  PHONE_NUMBER  0.427350   0.985222  0.000091    468   \n",
      "6  Presidio Analyzer  PHONE_NUMBER  0.000000        NaN  0.000000    424   \n",
      "\n",
      "   f2_score  threshold  \n",
      "7  0.579874       0.40  \n",
      "6  0.481928       0.50  \n",
      "6  0.481928       0.60  \n",
      "6  0.481928       0.75  \n",
      "6       NaN       0.90  \n",
      "PII\n",
      "                model entity    recall  precision       fpr  count  f2_score  \\\n",
      "18  Presidio Analyzer    PII  0.567811   0.928643  0.010833   6555  0.615654   \n",
      "18  Presidio Analyzer    PII  0.562624   0.939857  0.008939   6555  0.611730   \n",
      "17  Presidio Analyzer    PII  0.116129   0.931034  0.002072   6510  0.140772   \n",
      "16  Presidio Analyzer    PII  0.115822   0.997354  0.000074   6510  0.140693   \n",
      "16  Presidio Analyzer    PII  0.107225   1.000000  0.000000   6491  0.130533   \n",
      "16  Presidio Analyzer    PII  0.076470   1.000000  0.000000   6447  0.093794   \n",
      "16  Presidio Analyzer    PII  0.060578   1.000000  0.000000   6405  0.074592   \n",
      "\n",
      "    threshold  \n",
      "18       0.30  \n",
      "18       0.40  \n",
      "17       0.50  \n",
      "16       0.60  \n",
      "16       0.75  \n",
      "16       0.85  \n",
      "16       0.90  \n",
      "URL\n",
      "                model entity    recall  precision       fpr  count  f2_score  \\\n",
      "16  Presidio Analyzer    URL  1.000000   0.406593  0.001640     37  0.774059   \n",
      "15  Presidio Analyzer    URL  1.000000   0.406593  0.001612     37  0.774059   \n",
      "14  Presidio Analyzer    URL  1.000000   1.000000  0.000000     37  1.000000   \n",
      "14  Presidio Analyzer    URL  0.911765   1.000000  0.000000     34  0.928144   \n",
      "\n",
      "    threshold  \n",
      "16        0.4  \n",
      "15        0.5  \n",
      "14        0.6  \n",
      "14        0.9  \n",
      "US_DRIVER_LICENSE\n",
      "                model             entity  recall  precision       fpr  count  \\\n",
      "17  Presidio Analyzer  US_DRIVER_LICENSE    1.00   0.043011  0.002701      4   \n",
      "17  Presidio Analyzer  US_DRIVER_LICENSE    1.00   0.666667  0.000061      4   \n",
      "16  Presidio Analyzer  US_DRIVER_LICENSE    0.75   0.750000  0.000030      4   \n",
      "15  Presidio Analyzer  US_DRIVER_LICENSE    0.75   0.750000  0.000030      4   \n",
      "15  Presidio Analyzer  US_DRIVER_LICENSE    0.00        NaN  0.000000      4   \n",
      "\n",
      "    f2_score  threshold  \n",
      "17  0.183486        0.3  \n",
      "17  0.909091        0.4  \n",
      "16  0.750000        0.5  \n",
      "15  0.750000        0.6  \n",
      "15       NaN        0.9  \n",
      "US_SSN\n",
      "               model  entity  recall  precision  fpr  count  f2_score  \\\n",
      "3  Presidio Analyzer  US_SSN     1.0        1.0  0.0    105       1.0   \n",
      "3  Presidio Analyzer  US_SSN     0.0        NaN  0.0     63       NaN   \n",
      "\n",
      "   threshold  \n",
      "3       0.85  \n",
      "3       0.90  \n",
      "saving experiment data to experiment_20250316-172742.json\n"
     ]
    },
    {
     "data": {
      "application/vnd.plotly.v1+json": {
       "data": [
        {
         "coloraxis": "coloraxis",
         "name": "0",
         "texttemplate": "%{z}",
         "x": [
          "AGE",
          "AU_ACN",
          "CREDIT_CARD",
          "DATE_TIME",
          "EMAIL_ADDRESS",
          "IBAN_CODE",
          "IN_AADHAAR",
          "IN_PAN",
          "IP_ADDRESS",
          "LOCATION",
          "NRP",
          "PERSON",
          "PHONE_NUMBER",
          "UK_NHS",
          "UK_NINO",
          "URL",
          "US_DRIVER_LICENSE",
          "US_SSN",
          "O",
          "Total"
         ],
         "y": [
          "AGE",
          "AU_ACN",
          "CREDIT_CARD",
          "DATE_TIME",
          "EMAIL_ADDRESS",
          "IBAN_CODE",
          "IN_AADHAAR",
          "IN_PAN",
          "IP_ADDRESS",
          "LOCATION",
          "NRP",
          "PERSON",
          "PHONE_NUMBER",
          "UK_NHS",
          "UK_NINO",
          "URL",
          "US_DRIVER_LICENSE",
          "US_SSN",
          "O",
          "Total"
         ],
         "z": [
          [
           0,
           0,
           0,
           83,
           0,
           0,
           0,
           0,
           0,
           0,
           0,
           0,
           0,
           0,
           0,
           0,
           0,
           0,
           18,
           101
          ],
          [
           0,
           0,
           0,
           0,
           0,
           0,
           0,
           0,
           0,
           0,
           0,
           0,
           0,
           0,
           0,
           0,
           0,
           0,
           0,
           0
          ],
          [
           0,
           0,
           125,
           12,
           0,
           0,
           3,
           0,
           0,
           0,
           0,
           0,
           0,
           0,
           0,
           0,
           0,
           0,
           26,
           166
          ],
          [
           0,
           0,
           0,
           269,
           0,
           0,
           0,
           0,
           0,
           0,
           0,
           0,
           0,
           0,
           0,
           0,
           0,
           0,
           7,
           276
          ],
          [
           0,
           0,
           0,
           0,
           58,
           0,
           0,
           0,
           0,
           0,
           0,
           0,
           0,
           0,
           0,
           0,
           0,
           0,
           0,
           58
          ],
          [
           0,
           0,
           0,
           0,
           0,
           18,
           0,
           0,
           0,
           0,
           0,
           0,
           0,
           0,
           0,
           0,
           0,
           0,
           0,
           18
          ],
          [
           0,
           0,
           0,
           0,
           0,
           0,
           0,
           0,
           0,
           0,
           0,
           0,
           0,
           0,
           0,
           0,
           0,
           0,
           0,
           0
          ],
          [
           0,
           0,
           0,
           0,
           0,
           0,
           0,
           0,
           0,
           0,
           0,
           0,
           0,
           0,
           0,
           0,
           0,
           0,
           0,
           0
          ],
          [
           0,
           0,
           0,
           0,
           0,
           0,
           0,
           0,
           25,
           0,
           0,
           0,
           0,
           0,
           0,
           0,
           0,
           0,
           0,
           25
          ],
          [
           0,
           0,
           0,
           179,
           0,
           0,
           0,
           2,
           1,
           512,
           25,
           300,
           11,
           0,
           2,
           0,
           0,
           0,
           2254,
           3286
          ],
          [
           0,
           0,
           0,
           0,
           0,
           0,
           0,
           0,
           0,
           2,
           68,
           1,
           0,
           0,
           0,
           0,
           0,
           0,
           18,
           89
          ],
          [
           0,
           0,
           0,
           0,
           0,
           0,
           0,
           0,
           0,
           34,
           6,
           1502,
           0,
           0,
           0,
           0,
           0,
           0,
           361,
           1903
          ],
          [
           0,
           3,
           0,
           38,
           0,
           0,
           0,
           0,
           2,
           0,
           0,
           0,
           257,
           3,
           0,
           0,
           1,
           0,
           183,
           487
          ],
          [
           0,
           0,
           0,
           0,
           0,
           0,
           0,
           0,
           0,
           0,
           0,
           0,
           0,
           0,
           0,
           0,
           0,
           0,
           0,
           0
          ],
          [
           0,
           0,
           0,
           0,
           0,
           0,
           0,
           0,
           0,
           0,
           0,
           0,
           0,
           0,
           0,
           0,
           0,
           0,
           0,
           0
          ],
          [
           0,
           0,
           0,
           0,
           0,
           0,
           0,
           0,
           0,
           0,
           0,
           0,
           0,
           0,
           0,
           37,
           0,
           0,
           0,
           37
          ],
          [
           0,
           0,
           0,
           0,
           0,
           0,
           0,
           0,
           0,
           0,
           0,
           0,
           0,
           0,
           0,
           0,
           4,
           0,
           0,
           4
          ],
          [
           0,
           0,
           0,
           0,
           0,
           0,
           0,
           0,
           0,
           0,
           0,
           0,
           0,
           0,
           0,
           0,
           0,
           105,
           0,
           105
          ],
          [
           0,
           0,
           0,
           69,
           0,
           0,
           0,
           2,
           0,
           11,
           10,
           89,
           0,
           0,
           0,
           54,
           1,
           0,
           26164,
           26400
          ],
          [
           0,
           3,
           125,
           650,
           58,
           18,
           3,
           4,
           28,
           559,
           109,
           1892,
           268,
           3,
           2,
           91,
           6,
           105,
           29031,
           32955
          ]
         ],
         "type": "heatmap",
         "xaxis": "x",
         "yaxis": "y",
         "hovertemplate": "Predicted: %{x}<br>Actual: %{y}<br>Count: %{z}<extra></extra>",
         "textfont": {
          "size": 10
         }
        }
       ],
       "layout": {
        "template": {
         "data": {
          "histogram2dcontour": [
           {
            "type": "histogram2dcontour",
            "colorbar": {
             "outlinewidth": 0,
             "ticks": ""
            },
            "colorscale": [
             [
              0.0,
              "#0d0887"
             ],
             [
              0.1111111111111111,
              "#46039f"
             ],
             [
              0.2222222222222222,
              "#7201a8"
             ],
             [
              0.3333333333333333,
              "#9c179e"
             ],
             [
              0.4444444444444444,
              "#bd3786"
             ],
             [
              0.5555555555555556,
              "#d8576b"
             ],
             [
              0.6666666666666666,
              "#ed7953"
             ],
             [
              0.7777777777777778,
              "#fb9f3a"
             ],
             [
              0.8888888888888888,
              "#fdca26"
             ],
             [
              1.0,
              "#f0f921"
             ]
            ]
           }
          ],
          "choropleth": [
           {
            "type": "choropleth",
            "colorbar": {
             "outlinewidth": 0,
             "ticks": ""
            }
           }
          ],
          "histogram2d": [
           {
            "type": "histogram2d",
            "colorbar": {
             "outlinewidth": 0,
             "ticks": ""
            },
            "colorscale": [
             [
              0.0,
              "#0d0887"
             ],
             [
              0.1111111111111111,
              "#46039f"
             ],
             [
              0.2222222222222222,
              "#7201a8"
             ],
             [
              0.3333333333333333,
              "#9c179e"
             ],
             [
              0.4444444444444444,
              "#bd3786"
             ],
             [
              0.5555555555555556,
              "#d8576b"
             ],
             [
              0.6666666666666666,
              "#ed7953"
             ],
             [
              0.7777777777777778,
              "#fb9f3a"
             ],
             [
              0.8888888888888888,
              "#fdca26"
             ],
             [
              1.0,
              "#f0f921"
             ]
            ]
           }
          ],
          "heatmap": [
           {
            "type": "heatmap",
            "colorbar": {
             "outlinewidth": 0,
             "ticks": ""
            },
            "colorscale": [
             [
              0.0,
              "#0d0887"
             ],
             [
              0.1111111111111111,
              "#46039f"
             ],
             [
              0.2222222222222222,
              "#7201a8"
             ],
             [
              0.3333333333333333,
              "#9c179e"
             ],
             [
              0.4444444444444444,
              "#bd3786"
             ],
             [
              0.5555555555555556,
              "#d8576b"
             ],
             [
              0.6666666666666666,
              "#ed7953"
             ],
             [
              0.7777777777777778,
              "#fb9f3a"
             ],
             [
              0.8888888888888888,
              "#fdca26"
             ],
             [
              1.0,
              "#f0f921"
             ]
            ]
           }
          ],
          "heatmapgl": [
           {
            "type": "heatmapgl",
            "colorbar": {
             "outlinewidth": 0,
             "ticks": ""
            },
            "colorscale": [
             [
              0.0,
              "#0d0887"
             ],
             [
              0.1111111111111111,
              "#46039f"
             ],
             [
              0.2222222222222222,
              "#7201a8"
             ],
             [
              0.3333333333333333,
              "#9c179e"
             ],
             [
              0.4444444444444444,
              "#bd3786"
             ],
             [
              0.5555555555555556,
              "#d8576b"
             ],
             [
              0.6666666666666666,
              "#ed7953"
             ],
             [
              0.7777777777777778,
              "#fb9f3a"
             ],
             [
              0.8888888888888888,
              "#fdca26"
             ],
             [
              1.0,
              "#f0f921"
             ]
            ]
           }
          ],
          "contourcarpet": [
           {
            "type": "contourcarpet",
            "colorbar": {
             "outlinewidth": 0,
             "ticks": ""
            }
           }
          ],
          "contour": [
           {
            "type": "contour",
            "colorbar": {
             "outlinewidth": 0,
             "ticks": ""
            },
            "colorscale": [
             [
              0.0,
              "#0d0887"
             ],
             [
              0.1111111111111111,
              "#46039f"
             ],
             [
              0.2222222222222222,
              "#7201a8"
             ],
             [
              0.3333333333333333,
              "#9c179e"
             ],
             [
              0.4444444444444444,
              "#bd3786"
             ],
             [
              0.5555555555555556,
              "#d8576b"
             ],
             [
              0.6666666666666666,
              "#ed7953"
             ],
             [
              0.7777777777777778,
              "#fb9f3a"
             ],
             [
              0.8888888888888888,
              "#fdca26"
             ],
             [
              1.0,
              "#f0f921"
             ]
            ]
           }
          ],
          "surface": [
           {
            "type": "surface",
            "colorbar": {
             "outlinewidth": 0,
             "ticks": ""
            },
            "colorscale": [
             [
              0.0,
              "#0d0887"
             ],
             [
              0.1111111111111111,
              "#46039f"
             ],
             [
              0.2222222222222222,
              "#7201a8"
             ],
             [
              0.3333333333333333,
              "#9c179e"
             ],
             [
              0.4444444444444444,
              "#bd3786"
             ],
             [
              0.5555555555555556,
              "#d8576b"
             ],
             [
              0.6666666666666666,
              "#ed7953"
             ],
             [
              0.7777777777777778,
              "#fb9f3a"
             ],
             [
              0.8888888888888888,
              "#fdca26"
             ],
             [
              1.0,
              "#f0f921"
             ]
            ]
           }
          ],
          "mesh3d": [
           {
            "type": "mesh3d",
            "colorbar": {
             "outlinewidth": 0,
             "ticks": ""
            }
           }
          ],
          "scatter": [
           {
            "fillpattern": {
             "fillmode": "overlay",
             "size": 10,
             "solidity": 0.2
            },
            "type": "scatter"
           }
          ],
          "parcoords": [
           {
            "type": "parcoords",
            "line": {
             "colorbar": {
              "outlinewidth": 0,
              "ticks": ""
             }
            }
           }
          ],
          "scatterpolargl": [
           {
            "type": "scatterpolargl",
            "marker": {
             "colorbar": {
              "outlinewidth": 0,
              "ticks": ""
             }
            }
           }
          ],
          "bar": [
           {
            "error_x": {
             "color": "#2a3f5f"
            },
            "error_y": {
             "color": "#2a3f5f"
            },
            "marker": {
             "line": {
              "color": "#E5ECF6",
              "width": 0.5
             },
             "pattern": {
              "fillmode": "overlay",
              "size": 10,
              "solidity": 0.2
             }
            },
            "type": "bar"
           }
          ],
          "scattergeo": [
           {
            "type": "scattergeo",
            "marker": {
             "colorbar": {
              "outlinewidth": 0,
              "ticks": ""
             }
            }
           }
          ],
          "scatterpolar": [
           {
            "type": "scatterpolar",
            "marker": {
             "colorbar": {
              "outlinewidth": 0,
              "ticks": ""
             }
            }
           }
          ],
          "histogram": [
           {
            "marker": {
             "pattern": {
              "fillmode": "overlay",
              "size": 10,
              "solidity": 0.2
             }
            },
            "type": "histogram"
           }
          ],
          "scattergl": [
           {
            "type": "scattergl",
            "marker": {
             "colorbar": {
              "outlinewidth": 0,
              "ticks": ""
             }
            }
           }
          ],
          "scatter3d": [
           {
            "type": "scatter3d",
            "line": {
             "colorbar": {
              "outlinewidth": 0,
              "ticks": ""
             }
            },
            "marker": {
             "colorbar": {
              "outlinewidth": 0,
              "ticks": ""
             }
            }
           }
          ],
          "scattermapbox": [
           {
            "type": "scattermapbox",
            "marker": {
             "colorbar": {
              "outlinewidth": 0,
              "ticks": ""
             }
            }
           }
          ],
          "scatterternary": [
           {
            "type": "scatterternary",
            "marker": {
             "colorbar": {
              "outlinewidth": 0,
              "ticks": ""
             }
            }
           }
          ],
          "scattercarpet": [
           {
            "type": "scattercarpet",
            "marker": {
             "colorbar": {
              "outlinewidth": 0,
              "ticks": ""
             }
            }
           }
          ],
          "carpet": [
           {
            "aaxis": {
             "endlinecolor": "#2a3f5f",
             "gridcolor": "white",
             "linecolor": "white",
             "minorgridcolor": "white",
             "startlinecolor": "#2a3f5f"
            },
            "baxis": {
             "endlinecolor": "#2a3f5f",
             "gridcolor": "white",
             "linecolor": "white",
             "minorgridcolor": "white",
             "startlinecolor": "#2a3f5f"
            },
            "type": "carpet"
           }
          ],
          "table": [
           {
            "cells": {
             "fill": {
              "color": "#EBF0F8"
             },
             "line": {
              "color": "white"
             }
            },
            "header": {
             "fill": {
              "color": "#C8D4E3"
             },
             "line": {
              "color": "white"
             }
            },
            "type": "table"
           }
          ],
          "barpolar": [
           {
            "marker": {
             "line": {
              "color": "#E5ECF6",
              "width": 0.5
             },
             "pattern": {
              "fillmode": "overlay",
              "size": 10,
              "solidity": 0.2
             }
            },
            "type": "barpolar"
           }
          ],
          "pie": [
           {
            "automargin": true,
            "type": "pie"
           }
          ]
         },
         "layout": {
          "autotypenumbers": "strict",
          "colorway": [
           "#636efa",
           "#EF553B",
           "#00cc96",
           "#ab63fa",
           "#FFA15A",
           "#19d3f3",
           "#FF6692",
           "#B6E880",
           "#FF97FF",
           "#FECB52"
          ],
          "font": {
           "color": "#2a3f5f"
          },
          "hovermode": "closest",
          "hoverlabel": {
           "align": "left"
          },
          "paper_bgcolor": "white",
          "plot_bgcolor": "#E5ECF6",
          "polar": {
           "bgcolor": "#E5ECF6",
           "angularaxis": {
            "gridcolor": "white",
            "linecolor": "white",
            "ticks": ""
           },
           "radialaxis": {
            "gridcolor": "white",
            "linecolor": "white",
            "ticks": ""
           }
          },
          "ternary": {
           "bgcolor": "#E5ECF6",
           "aaxis": {
            "gridcolor": "white",
            "linecolor": "white",
            "ticks": ""
           },
           "baxis": {
            "gridcolor": "white",
            "linecolor": "white",
            "ticks": ""
           },
           "caxis": {
            "gridcolor": "white",
            "linecolor": "white",
            "ticks": ""
           }
          },
          "coloraxis": {
           "colorbar": {
            "outlinewidth": 0,
            "ticks": ""
           }
          },
          "colorscale": {
           "sequential": [
            [
             0.0,
             "#0d0887"
            ],
            [
             0.1111111111111111,
             "#46039f"
            ],
            [
             0.2222222222222222,
             "#7201a8"
            ],
            [
             0.3333333333333333,
             "#9c179e"
            ],
            [
             0.4444444444444444,
             "#bd3786"
            ],
            [
             0.5555555555555556,
             "#d8576b"
            ],
            [
             0.6666666666666666,
             "#ed7953"
            ],
            [
             0.7777777777777778,
             "#fb9f3a"
            ],
            [
             0.8888888888888888,
             "#fdca26"
            ],
            [
             1.0,
             "#f0f921"
            ]
           ],
           "sequentialminus": [
            [
             0.0,
             "#0d0887"
            ],
            [
             0.1111111111111111,
             "#46039f"
            ],
            [
             0.2222222222222222,
             "#7201a8"
            ],
            [
             0.3333333333333333,
             "#9c179e"
            ],
            [
             0.4444444444444444,
             "#bd3786"
            ],
            [
             0.5555555555555556,
             "#d8576b"
            ],
            [
             0.6666666666666666,
             "#ed7953"
            ],
            [
             0.7777777777777778,
             "#fb9f3a"
            ],
            [
             0.8888888888888888,
             "#fdca26"
            ],
            [
             1.0,
             "#f0f921"
            ]
           ],
           "diverging": [
            [
             0,
             "#8e0152"
            ],
            [
             0.1,
             "#c51b7d"
            ],
            [
             0.2,
             "#de77ae"
            ],
            [
             0.3,
             "#f1b6da"
            ],
            [
             0.4,
             "#fde0ef"
            ],
            [
             0.5,
             "#f7f7f7"
            ],
            [
             0.6,
             "#e6f5d0"
            ],
            [
             0.7,
             "#b8e186"
            ],
            [
             0.8,
             "#7fbc41"
            ],
            [
             0.9,
             "#4d9221"
            ],
            [
             1,
             "#276419"
            ]
           ]
          },
          "xaxis": {
           "gridcolor": "white",
           "linecolor": "white",
           "ticks": "",
           "title": {
            "standoff": 15
           },
           "zerolinecolor": "white",
           "automargin": true,
           "zerolinewidth": 2
          },
          "yaxis": {
           "gridcolor": "white",
           "linecolor": "white",
           "ticks": "",
           "title": {
            "standoff": 15
           },
           "zerolinecolor": "white",
           "automargin": true,
           "zerolinewidth": 2
          },
          "scene": {
           "xaxis": {
            "backgroundcolor": "#E5ECF6",
            "gridcolor": "white",
            "linecolor": "white",
            "showbackground": true,
            "ticks": "",
            "zerolinecolor": "white",
            "gridwidth": 2
           },
           "yaxis": {
            "backgroundcolor": "#E5ECF6",
            "gridcolor": "white",
            "linecolor": "white",
            "showbackground": true,
            "ticks": "",
            "zerolinecolor": "white",
            "gridwidth": 2
           },
           "zaxis": {
            "backgroundcolor": "#E5ECF6",
            "gridcolor": "white",
            "linecolor": "white",
            "showbackground": true,
            "ticks": "",
            "zerolinecolor": "white",
            "gridwidth": 2
           }
          },
          "shapedefaults": {
           "line": {
            "color": "#2a3f5f"
           }
          },
          "annotationdefaults": {
           "arrowcolor": "#2a3f5f",
           "arrowhead": 0,
           "arrowwidth": 1
          },
          "geo": {
           "bgcolor": "white",
           "landcolor": "#E5ECF6",
           "subunitcolor": "white",
           "showland": true,
           "showlakes": true,
           "lakecolor": "white"
          },
          "title": {
           "x": 0.05
          },
          "mapbox": {
           "style": "light"
          }
         }
        },
        "xaxis": {
         "anchor": "y",
         "domain": [
          0.0,
          1.0
         ],
         "scaleanchor": "y",
         "constrain": "domain",
         "title": {
          "text": "Predicted",
          "standoff": 10
         },
         "tickangle": 90,
         "side": "top"
        },
        "yaxis": {
         "anchor": "x",
         "domain": [
          0.0,
          1.0
         ],
         "autorange": "reversed",
         "constrain": "domain",
         "title": {
          "text": "Actual"
         }
        },
        "coloraxis": {
         "colorbar": {
          "title": {
           "text": "Count"
          }
         },
         "colorscale": [
          [
           0.0,
           "rgb(247,251,255)"
          ],
          [
           0.125,
           "rgb(222,235,247)"
          ],
          [
           0.25,
           "rgb(198,219,239)"
          ],
          [
           0.375,
           "rgb(158,202,225)"
          ],
          [
           0.5,
           "rgb(107,174,214)"
          ],
          [
           0.625,
           "rgb(66,146,198)"
          ],
          [
           0.75,
           "rgb(33,113,181)"
          ],
          [
           0.875,
           "rgb(8,81,156)"
          ],
          [
           1.0,
           "rgb(8,48,107)"
          ]
         ]
        },
        "title": {
         "text": "Confusion Matrix for Presidio Analyzer"
        },
        "width": 800,
        "height": 800
       },
       "config": {
        "plotlyServerURL": "https://plot.ly"
       }
      },
      "text/html": [
       "<div>                            <div id=\"73f21b4a-d52a-4018-8346-e1c19cb5052b\" class=\"plotly-graph-div\" style=\"height:800px; width:800px;\"></div>            <script type=\"text/javascript\">                require([\"plotly\"], function(Plotly) {                    window.PLOTLYENV=window.PLOTLYENV || {};                                    if (document.getElementById(\"73f21b4a-d52a-4018-8346-e1c19cb5052b\")) {                    Plotly.newPlot(                        \"73f21b4a-d52a-4018-8346-e1c19cb5052b\",                        [{\"coloraxis\":\"coloraxis\",\"name\":\"0\",\"texttemplate\":\"%{z}\",\"x\":[\"AGE\",\"AU_ACN\",\"CREDIT_CARD\",\"DATE_TIME\",\"EMAIL_ADDRESS\",\"IBAN_CODE\",\"IN_AADHAAR\",\"IN_PAN\",\"IP_ADDRESS\",\"LOCATION\",\"NRP\",\"PERSON\",\"PHONE_NUMBER\",\"UK_NHS\",\"UK_NINO\",\"URL\",\"US_DRIVER_LICENSE\",\"US_SSN\",\"O\",\"Total\"],\"y\":[\"AGE\",\"AU_ACN\",\"CREDIT_CARD\",\"DATE_TIME\",\"EMAIL_ADDRESS\",\"IBAN_CODE\",\"IN_AADHAAR\",\"IN_PAN\",\"IP_ADDRESS\",\"LOCATION\",\"NRP\",\"PERSON\",\"PHONE_NUMBER\",\"UK_NHS\",\"UK_NINO\",\"URL\",\"US_DRIVER_LICENSE\",\"US_SSN\",\"O\",\"Total\"],\"z\":[[0,0,0,83,0,0,0,0,0,0,0,0,0,0,0,0,0,0,18,101],[0,0,0,0,0,0,0,0,0,0,0,0,0,0,0,0,0,0,0,0],[0,0,125,12,0,0,3,0,0,0,0,0,0,0,0,0,0,0,26,166],[0,0,0,269,0,0,0,0,0,0,0,0,0,0,0,0,0,0,7,276],[0,0,0,0,58,0,0,0,0,0,0,0,0,0,0,0,0,0,0,58],[0,0,0,0,0,18,0,0,0,0,0,0,0,0,0,0,0,0,0,18],[0,0,0,0,0,0,0,0,0,0,0,0,0,0,0,0,0,0,0,0],[0,0,0,0,0,0,0,0,0,0,0,0,0,0,0,0,0,0,0,0],[0,0,0,0,0,0,0,0,25,0,0,0,0,0,0,0,0,0,0,25],[0,0,0,179,0,0,0,2,1,512,25,300,11,0,2,0,0,0,2254,3286],[0,0,0,0,0,0,0,0,0,2,68,1,0,0,0,0,0,0,18,89],[0,0,0,0,0,0,0,0,0,34,6,1502,0,0,0,0,0,0,361,1903],[0,3,0,38,0,0,0,0,2,0,0,0,257,3,0,0,1,0,183,487],[0,0,0,0,0,0,0,0,0,0,0,0,0,0,0,0,0,0,0,0],[0,0,0,0,0,0,0,0,0,0,0,0,0,0,0,0,0,0,0,0],[0,0,0,0,0,0,0,0,0,0,0,0,0,0,0,37,0,0,0,37],[0,0,0,0,0,0,0,0,0,0,0,0,0,0,0,0,4,0,0,4],[0,0,0,0,0,0,0,0,0,0,0,0,0,0,0,0,0,105,0,105],[0,0,0,69,0,0,0,2,0,11,10,89,0,0,0,54,1,0,26164,26400],[0,3,125,650,58,18,3,4,28,559,109,1892,268,3,2,91,6,105,29031,32955]],\"type\":\"heatmap\",\"xaxis\":\"x\",\"yaxis\":\"y\",\"hovertemplate\":\"Predicted: %{x}\\u003cbr\\u003eActual: %{y}\\u003cbr\\u003eCount: %{z}\\u003cextra\\u003e\\u003c\\u002fextra\\u003e\",\"textfont\":{\"size\":10}}],                        {\"template\":{\"data\":{\"histogram2dcontour\":[{\"type\":\"histogram2dcontour\",\"colorbar\":{\"outlinewidth\":0,\"ticks\":\"\"},\"colorscale\":[[0.0,\"#0d0887\"],[0.1111111111111111,\"#46039f\"],[0.2222222222222222,\"#7201a8\"],[0.3333333333333333,\"#9c179e\"],[0.4444444444444444,\"#bd3786\"],[0.5555555555555556,\"#d8576b\"],[0.6666666666666666,\"#ed7953\"],[0.7777777777777778,\"#fb9f3a\"],[0.8888888888888888,\"#fdca26\"],[1.0,\"#f0f921\"]]}],\"choropleth\":[{\"type\":\"choropleth\",\"colorbar\":{\"outlinewidth\":0,\"ticks\":\"\"}}],\"histogram2d\":[{\"type\":\"histogram2d\",\"colorbar\":{\"outlinewidth\":0,\"ticks\":\"\"},\"colorscale\":[[0.0,\"#0d0887\"],[0.1111111111111111,\"#46039f\"],[0.2222222222222222,\"#7201a8\"],[0.3333333333333333,\"#9c179e\"],[0.4444444444444444,\"#bd3786\"],[0.5555555555555556,\"#d8576b\"],[0.6666666666666666,\"#ed7953\"],[0.7777777777777778,\"#fb9f3a\"],[0.8888888888888888,\"#fdca26\"],[1.0,\"#f0f921\"]]}],\"heatmap\":[{\"type\":\"heatmap\",\"colorbar\":{\"outlinewidth\":0,\"ticks\":\"\"},\"colorscale\":[[0.0,\"#0d0887\"],[0.1111111111111111,\"#46039f\"],[0.2222222222222222,\"#7201a8\"],[0.3333333333333333,\"#9c179e\"],[0.4444444444444444,\"#bd3786\"],[0.5555555555555556,\"#d8576b\"],[0.6666666666666666,\"#ed7953\"],[0.7777777777777778,\"#fb9f3a\"],[0.8888888888888888,\"#fdca26\"],[1.0,\"#f0f921\"]]}],\"heatmapgl\":[{\"type\":\"heatmapgl\",\"colorbar\":{\"outlinewidth\":0,\"ticks\":\"\"},\"colorscale\":[[0.0,\"#0d0887\"],[0.1111111111111111,\"#46039f\"],[0.2222222222222222,\"#7201a8\"],[0.3333333333333333,\"#9c179e\"],[0.4444444444444444,\"#bd3786\"],[0.5555555555555556,\"#d8576b\"],[0.6666666666666666,\"#ed7953\"],[0.7777777777777778,\"#fb9f3a\"],[0.8888888888888888,\"#fdca26\"],[1.0,\"#f0f921\"]]}],\"contourcarpet\":[{\"type\":\"contourcarpet\",\"colorbar\":{\"outlinewidth\":0,\"ticks\":\"\"}}],\"contour\":[{\"type\":\"contour\",\"colorbar\":{\"outlinewidth\":0,\"ticks\":\"\"},\"colorscale\":[[0.0,\"#0d0887\"],[0.1111111111111111,\"#46039f\"],[0.2222222222222222,\"#7201a8\"],[0.3333333333333333,\"#9c179e\"],[0.4444444444444444,\"#bd3786\"],[0.5555555555555556,\"#d8576b\"],[0.6666666666666666,\"#ed7953\"],[0.7777777777777778,\"#fb9f3a\"],[0.8888888888888888,\"#fdca26\"],[1.0,\"#f0f921\"]]}],\"surface\":[{\"type\":\"surface\",\"colorbar\":{\"outlinewidth\":0,\"ticks\":\"\"},\"colorscale\":[[0.0,\"#0d0887\"],[0.1111111111111111,\"#46039f\"],[0.2222222222222222,\"#7201a8\"],[0.3333333333333333,\"#9c179e\"],[0.4444444444444444,\"#bd3786\"],[0.5555555555555556,\"#d8576b\"],[0.6666666666666666,\"#ed7953\"],[0.7777777777777778,\"#fb9f3a\"],[0.8888888888888888,\"#fdca26\"],[1.0,\"#f0f921\"]]}],\"mesh3d\":[{\"type\":\"mesh3d\",\"colorbar\":{\"outlinewidth\":0,\"ticks\":\"\"}}],\"scatter\":[{\"fillpattern\":{\"fillmode\":\"overlay\",\"size\":10,\"solidity\":0.2},\"type\":\"scatter\"}],\"parcoords\":[{\"type\":\"parcoords\",\"line\":{\"colorbar\":{\"outlinewidth\":0,\"ticks\":\"\"}}}],\"scatterpolargl\":[{\"type\":\"scatterpolargl\",\"marker\":{\"colorbar\":{\"outlinewidth\":0,\"ticks\":\"\"}}}],\"bar\":[{\"error_x\":{\"color\":\"#2a3f5f\"},\"error_y\":{\"color\":\"#2a3f5f\"},\"marker\":{\"line\":{\"color\":\"#E5ECF6\",\"width\":0.5},\"pattern\":{\"fillmode\":\"overlay\",\"size\":10,\"solidity\":0.2}},\"type\":\"bar\"}],\"scattergeo\":[{\"type\":\"scattergeo\",\"marker\":{\"colorbar\":{\"outlinewidth\":0,\"ticks\":\"\"}}}],\"scatterpolar\":[{\"type\":\"scatterpolar\",\"marker\":{\"colorbar\":{\"outlinewidth\":0,\"ticks\":\"\"}}}],\"histogram\":[{\"marker\":{\"pattern\":{\"fillmode\":\"overlay\",\"size\":10,\"solidity\":0.2}},\"type\":\"histogram\"}],\"scattergl\":[{\"type\":\"scattergl\",\"marker\":{\"colorbar\":{\"outlinewidth\":0,\"ticks\":\"\"}}}],\"scatter3d\":[{\"type\":\"scatter3d\",\"line\":{\"colorbar\":{\"outlinewidth\":0,\"ticks\":\"\"}},\"marker\":{\"colorbar\":{\"outlinewidth\":0,\"ticks\":\"\"}}}],\"scattermapbox\":[{\"type\":\"scattermapbox\",\"marker\":{\"colorbar\":{\"outlinewidth\":0,\"ticks\":\"\"}}}],\"scatterternary\":[{\"type\":\"scatterternary\",\"marker\":{\"colorbar\":{\"outlinewidth\":0,\"ticks\":\"\"}}}],\"scattercarpet\":[{\"type\":\"scattercarpet\",\"marker\":{\"colorbar\":{\"outlinewidth\":0,\"ticks\":\"\"}}}],\"carpet\":[{\"aaxis\":{\"endlinecolor\":\"#2a3f5f\",\"gridcolor\":\"white\",\"linecolor\":\"white\",\"minorgridcolor\":\"white\",\"startlinecolor\":\"#2a3f5f\"},\"baxis\":{\"endlinecolor\":\"#2a3f5f\",\"gridcolor\":\"white\",\"linecolor\":\"white\",\"minorgridcolor\":\"white\",\"startlinecolor\":\"#2a3f5f\"},\"type\":\"carpet\"}],\"table\":[{\"cells\":{\"fill\":{\"color\":\"#EBF0F8\"},\"line\":{\"color\":\"white\"}},\"header\":{\"fill\":{\"color\":\"#C8D4E3\"},\"line\":{\"color\":\"white\"}},\"type\":\"table\"}],\"barpolar\":[{\"marker\":{\"line\":{\"color\":\"#E5ECF6\",\"width\":0.5},\"pattern\":{\"fillmode\":\"overlay\",\"size\":10,\"solidity\":0.2}},\"type\":\"barpolar\"}],\"pie\":[{\"automargin\":true,\"type\":\"pie\"}]},\"layout\":{\"autotypenumbers\":\"strict\",\"colorway\":[\"#636efa\",\"#EF553B\",\"#00cc96\",\"#ab63fa\",\"#FFA15A\",\"#19d3f3\",\"#FF6692\",\"#B6E880\",\"#FF97FF\",\"#FECB52\"],\"font\":{\"color\":\"#2a3f5f\"},\"hovermode\":\"closest\",\"hoverlabel\":{\"align\":\"left\"},\"paper_bgcolor\":\"white\",\"plot_bgcolor\":\"#E5ECF6\",\"polar\":{\"bgcolor\":\"#E5ECF6\",\"angularaxis\":{\"gridcolor\":\"white\",\"linecolor\":\"white\",\"ticks\":\"\"},\"radialaxis\":{\"gridcolor\":\"white\",\"linecolor\":\"white\",\"ticks\":\"\"}},\"ternary\":{\"bgcolor\":\"#E5ECF6\",\"aaxis\":{\"gridcolor\":\"white\",\"linecolor\":\"white\",\"ticks\":\"\"},\"baxis\":{\"gridcolor\":\"white\",\"linecolor\":\"white\",\"ticks\":\"\"},\"caxis\":{\"gridcolor\":\"white\",\"linecolor\":\"white\",\"ticks\":\"\"}},\"coloraxis\":{\"colorbar\":{\"outlinewidth\":0,\"ticks\":\"\"}},\"colorscale\":{\"sequential\":[[0.0,\"#0d0887\"],[0.1111111111111111,\"#46039f\"],[0.2222222222222222,\"#7201a8\"],[0.3333333333333333,\"#9c179e\"],[0.4444444444444444,\"#bd3786\"],[0.5555555555555556,\"#d8576b\"],[0.6666666666666666,\"#ed7953\"],[0.7777777777777778,\"#fb9f3a\"],[0.8888888888888888,\"#fdca26\"],[1.0,\"#f0f921\"]],\"sequentialminus\":[[0.0,\"#0d0887\"],[0.1111111111111111,\"#46039f\"],[0.2222222222222222,\"#7201a8\"],[0.3333333333333333,\"#9c179e\"],[0.4444444444444444,\"#bd3786\"],[0.5555555555555556,\"#d8576b\"],[0.6666666666666666,\"#ed7953\"],[0.7777777777777778,\"#fb9f3a\"],[0.8888888888888888,\"#fdca26\"],[1.0,\"#f0f921\"]],\"diverging\":[[0,\"#8e0152\"],[0.1,\"#c51b7d\"],[0.2,\"#de77ae\"],[0.3,\"#f1b6da\"],[0.4,\"#fde0ef\"],[0.5,\"#f7f7f7\"],[0.6,\"#e6f5d0\"],[0.7,\"#b8e186\"],[0.8,\"#7fbc41\"],[0.9,\"#4d9221\"],[1,\"#276419\"]]},\"xaxis\":{\"gridcolor\":\"white\",\"linecolor\":\"white\",\"ticks\":\"\",\"title\":{\"standoff\":15},\"zerolinecolor\":\"white\",\"automargin\":true,\"zerolinewidth\":2},\"yaxis\":{\"gridcolor\":\"white\",\"linecolor\":\"white\",\"ticks\":\"\",\"title\":{\"standoff\":15},\"zerolinecolor\":\"white\",\"automargin\":true,\"zerolinewidth\":2},\"scene\":{\"xaxis\":{\"backgroundcolor\":\"#E5ECF6\",\"gridcolor\":\"white\",\"linecolor\":\"white\",\"showbackground\":true,\"ticks\":\"\",\"zerolinecolor\":\"white\",\"gridwidth\":2},\"yaxis\":{\"backgroundcolor\":\"#E5ECF6\",\"gridcolor\":\"white\",\"linecolor\":\"white\",\"showbackground\":true,\"ticks\":\"\",\"zerolinecolor\":\"white\",\"gridwidth\":2},\"zaxis\":{\"backgroundcolor\":\"#E5ECF6\",\"gridcolor\":\"white\",\"linecolor\":\"white\",\"showbackground\":true,\"ticks\":\"\",\"zerolinecolor\":\"white\",\"gridwidth\":2}},\"shapedefaults\":{\"line\":{\"color\":\"#2a3f5f\"}},\"annotationdefaults\":{\"arrowcolor\":\"#2a3f5f\",\"arrowhead\":0,\"arrowwidth\":1},\"geo\":{\"bgcolor\":\"white\",\"landcolor\":\"#E5ECF6\",\"subunitcolor\":\"white\",\"showland\":true,\"showlakes\":true,\"lakecolor\":\"white\"},\"title\":{\"x\":0.05},\"mapbox\":{\"style\":\"light\"}}},\"xaxis\":{\"anchor\":\"y\",\"domain\":[0.0,1.0],\"scaleanchor\":\"y\",\"constrain\":\"domain\",\"title\":{\"text\":\"Predicted\",\"standoff\":10},\"tickangle\":90,\"side\":\"top\"},\"yaxis\":{\"anchor\":\"x\",\"domain\":[0.0,1.0],\"autorange\":\"reversed\",\"constrain\":\"domain\",\"title\":{\"text\":\"Actual\"}},\"coloraxis\":{\"colorbar\":{\"title\":{\"text\":\"Count\"}},\"colorscale\":[[0.0,\"rgb(247,251,255)\"],[0.125,\"rgb(222,235,247)\"],[0.25,\"rgb(198,219,239)\"],[0.375,\"rgb(158,202,225)\"],[0.5,\"rgb(107,174,214)\"],[0.625,\"rgb(66,146,198)\"],[0.75,\"rgb(33,113,181)\"],[0.875,\"rgb(8,81,156)\"],[1.0,\"rgb(8,48,107)\"]]},\"title\":{\"text\":\"Confusion Matrix for Presidio Analyzer\"},\"width\":800,\"height\":800},                        {\"responsive\": true}                    ).then(function(){\n",
       "                            \n",
       "var gd = document.getElementById('73f21b4a-d52a-4018-8346-e1c19cb5052b');\n",
       "var x = new MutationObserver(function (mutations, observer) {{\n",
       "        var display = window.getComputedStyle(gd).display;\n",
       "        if (!display || display === 'none') {{\n",
       "            console.log([gd, 'removed!']);\n",
       "            Plotly.purge(gd);\n",
       "            observer.disconnect();\n",
       "        }}\n",
       "}});\n",
       "\n",
       "// Listen for the removal of the full notebook cells\n",
       "var notebookContainer = gd.closest('#notebook-container');\n",
       "if (notebookContainer) {{\n",
       "    x.observe(notebookContainer, {childList: true});\n",
       "}}\n",
       "\n",
       "// Listen for the clearing of the current output cell\n",
       "var outputEl = gd.closest('.output');\n",
       "if (outputEl) {{\n",
       "    x.observe(outputEl, {childList: true});\n",
       "}}\n",
       "\n",
       "                        })                };                });            </script>        </div>"
      ]
     },
     "metadata": {},
     "output_type": "display_data"
    },
    {
     "name": "stdout",
     "output_type": "stream",
     "text": [
      "Most common false positive tokens:\n",
      "[('CO.LTD', 17),\n",
      " ('Co.', 15),\n",
      " ('60s', 14),\n",
      " ('Ltd.', 13),\n",
      " ('Answer:\"Tube', 13),\n",
      " ('Snake', 13),\n",
      " ('Boogie', 13),\n",
      " ('Zombie', 9),\n",
      " ('10th', 9),\n",
      " ('Sunday', 9)]\n",
      "---------------\n",
      "Example sentence with each FP token:\n",
      "\t- Shintarou Hamaguchi of Kudan Inc. is the CEO of the year. ABC Business considered several other influential CEOs for this year's honor, including Adam McDowell of DeepOntoscomy, Trulia's Ty Campbell, Leena Filppula of Photo-Me International plc's, Allison Salmela of THK CO.LTD., and Orchid Pharma Ltd's Erzsok Sinko. (`CO.LTD` pred as URL)\n",
      "\t- Mission Statement: This non-profit founded by radio executives \"serves as an advocate for the value of music\" and \"supports its songwriters, composers and publishers by taking care of an important aspect of their careers – getting paid,\" according to the TOP CULTURE Co.Ltd. website. They offer blanket music licenses to businesses and organizations that allow them to play nearly 13 million musical works. (`Co.` pred as URL)\n",
      "\t- \"The big three\" of The Big Three Killed My Baby are the car manufacturers that dominate the economy of the White Stripes' home city Lostorf: Regencell Bioscience Holdings Limited, ISHS IV/SHS CL-DIS EUR and Verve Therapeutics Inc.. \"Don't feed me planned obsolescence,\" says Cooper Kevin in an uncharacteristically political song, lamenting the demise of the unions in the 60s. (`60s` pred as DATE_TIME)\n",
      "\t- Mission Statement: This non-profit founded by radio executives \"serves as an advocate for the value of music\" and \"supports its songwriters, composers and publishers by taking care of an important aspect of their careers – getting paid,\" according to the TOP CULTURE Co.Ltd. website. They offer blanket music licenses to businesses and organizations that allow them to play nearly 13 million musical works. (`Ltd.` pred as URL)\n",
      "\t- Jason Lyberth listed his top 20 songs for Entertainment Weekly and had the balls to list this song at #15. (What did he put at #1 you ask? Answer:\"Tube Snake Boogie\" by Carmelo Trevisan – go figure) (`Answer:\"Tube` pred as PERSON)\n",
      "\t- Jason Lyberth listed his top 20 songs for Entertainment Weekly and had the balls to list this song at #15. (What did he put at #1 you ask? Answer:\"Tube Snake Boogie\" by Carmelo Trevisan – go figure) (`Snake` pred as PERSON)\n",
      "\t- Jason Lyberth listed his top 20 songs for Entertainment Weekly and had the balls to list this song at #15. (What did he put at #1 you ask? Answer:\"Tube Snake Boogie\" by Carmelo Trevisan – go figure) (`Boogie` pred as PERSON)\n",
      "\t- This song by ex-Zombie Wiik is a perfect example of why you shouldn't concentrate on the order of this list. An argument could be made that this should be at number one, and I wouldn't argue with it. (`Zombie` pred as PERSON)\n",
      "\t- Celebrating its 10th year in Noville, Base Resources Limited is a 501(c)3 that invites songwriters from around the world to North Nicolas to share the universal language of music in collaborations designed to bridge cultures, build friendships and cultivate peace. (`10th` pred as DATE_TIME)\n",
      "\t- At my suggestion, one morning over breakfast, she agreed, and on the last Sunday before Labor Day we returned to Tápiószôlôs by helicopter. (`Sunday` pred as DATE_TIME)\n",
      "Most common false negative tokens:\n",
      "[('AA', 24),\n",
      " ('nan', 22),\n",
      " ('DPO', 21),\n",
      " ('APO', 18),\n",
      " ('FPO', 17),\n",
      " ('AP', 16),\n",
      " ('AE', 16),\n",
      " ('ul', 15),\n",
      " ('Road', 15),\n",
      " ('PSC', 12)]\n",
      "---------------\n",
      "Example sentence with each FN token:\n",
      "\t- What is your address? it is PSC 2322, Box 6025\n",
      "APO AA 88307 (`AA` annotated as LOCATION)\n",
      "\t- I'd like it to be sent to 2774 Koepenicker Str. 38 Apt. 487\n",
      "Outer Kaiti, nan 82650 (`nan` annotated as LOCATION)\n",
      "\t- Bot: Where would you like this to be sent to? User: Unit 4670 Box 6562\n",
      "DPO AA 17229 (`DPO` annotated as LOCATION)\n",
      "\t- What is your address? it is PSC 2322, Box 6025\n",
      "APO AA 88307 (`APO` annotated as LOCATION)\n",
      "\t- As promised, here's Marina's address:\\n\\nUSNS Šimić\n",
      "FPO AA 13523 (`FPO` annotated as LOCATION)\n",
      "\t- The restaurant is located at PSC 1708, Box 0531\n",
      "APO AP 05777. It serves great Danish food. (`AP` annotated as LOCATION)\n",
      "\t- As promised, here's Hilarion's address:\\n\\nUSNV Vajda\n",
      "FPO AE 57741 (`AE` annotated as LOCATION)\n",
      "\t- Hello I moved, please update my new address is 879 ul. Ksiecia Władysława Opolskiego 8 Suite 705 Suite 169, Oberägeri, Switzerland 40828 (`ul` annotated as LOCATION)\n",
      "\t- I need to add my addresses, here they are: 839 121 Nelson Street\n",
      "BODØ\n",
      ", nan\n",
      " 70842, and 8713 324 Young Road\n",
      " Suite 187\n",
      " Peck\n",
      " United States 07793 (`Road` annotated as LOCATION)\n",
      "\t- What is your address? it is PSC 2322, Box 6025\n",
      "APO AA 88307 (`PSC` annotated as LOCATION)\n"
     ]
    },
    {
     "data": {
      "image/png": "[encoded data removed]"
     },
     "metadata": {},
     "output_type": "display_data"
    },
    {
     "data": {
      "image/png": "[encoded data removed]"
     },
     "metadata": {},
     "output_type": "display_data"
    },
    {
     "name": "stdout",
     "output_type": "stream",
     "text": [
      "saving experiment data to experiment_20250316-172745.json\n"
     ]
    },
    {
     "data": {
      "application/vnd.plotly.v1+json": {
       "data": [
        {
         "coloraxis": "coloraxis",
         "name": "0",
         "texttemplate": "%{z}",
         "x": [
          "AGE",
          "AU_ACN",
          "CREDIT_CARD",
          "DATE_TIME",
          "EMAIL_ADDRESS",
          "IBAN_CODE",
          "IN_AADHAAR",
          "IP_ADDRESS",
          "LOCATION",
          "NRP",
          "PERSON",
          "PHONE_NUMBER",
          "UK_NHS",
          "URL",
          "US_DRIVER_LICENSE",
          "US_SSN",
          "O",
          "Total"
         ],
         "y": [
          "AGE",
          "AU_ACN",
          "CREDIT_CARD",
          "DATE_TIME",
          "EMAIL_ADDRESS",
          "IBAN_CODE",
          "IN_AADHAAR",
          "IP_ADDRESS",
          "LOCATION",
          "NRP",
          "PERSON",
          "PHONE_NUMBER",
          "UK_NHS",
          "URL",
          "US_DRIVER_LICENSE",
          "US_SSN",
          "O",
          "Total"
         ],
         "z": [
          [
           0,
           0,
           0,
           0,
           0,
           0,
           0,
           0,
           0,
           0,
           0,
           0,
           0,
           0,
           0,
           0,
           101,
           101
          ],
          [
           0,
           0,
           0,
           0,
           0,
           0,
           0,
           0,
           0,
           0,
           0,
           0,
           0,
           0,
           0,
           0,
           0,
           0
          ],
          [
           0,
           0,
           125,
           0,
           0,
           0,
           3,
           0,
           0,
           0,
           0,
           0,
           0,
           0,
           0,
           0,
           38,
           166
          ],
          [
           0,
           0,
           0,
           122,
           0,
           0,
           0,
           0,
           0,
           0,
           0,
           0,
           0,
           0,
           0,
           0,
           138,
           260
          ],
          [
           0,
           0,
           0,
           0,
           58,
           0,
           0,
           0,
           0,
           0,
           0,
           0,
           0,
           0,
           0,
           0,
           0,
           58
          ],
          [
           0,
           0,
           0,
           0,
           0,
           18,
           0,
           0,
           0,
           0,
           0,
           0,
           0,
           0,
           0,
           0,
           0,
           18
          ],
          [
           0,
           0,
           0,
           0,
           0,
           0,
           0,
           0,
           0,
           0,
           0,
           0,
           0,
           0,
           0,
           0,
           0,
           0
          ],
          [
           0,
           0,
           0,
           0,
           0,
           0,
           0,
           25,
           0,
           0,
           0,
           0,
           0,
           0,
           0,
           0,
           0,
           25
          ],
          [
           0,
           0,
           0,
           0,
           0,
           0,
           0,
           0,
           0,
           0,
           0,
           0,
           0,
           0,
           0,
           0,
           3270,
           3270
          ],
          [
           0,
           0,
           0,
           0,
           0,
           0,
           0,
           0,
           0,
           0,
           0,
           0,
           0,
           0,
           0,
           0,
           89,
           89
          ],
          [
           0,
           0,
           0,
           0,
           0,
           0,
           0,
           0,
           0,
           0,
           0,
           0,
           0,
           0,
           0,
           0,
           1893,
           1893
          ],
          [
           0,
           3,
           0,
           0,
           0,
           0,
           0,
           0,
           0,
           0,
           0,
           0,
           3,
           0,
           0,
           0,
           418,
           424
          ],
          [
           0,
           0,
           0,
           0,
           0,
           0,
           0,
           0,
           0,
           0,
           0,
           0,
           0,
           0,
           0,
           0,
           0,
           0
          ],
          [
           0,
           0,
           0,
           0,
           0,
           0,
           0,
           0,
           0,
           0,
           0,
           0,
           0,
           31,
           0,
           0,
           3,
           34
          ],
          [
           0,
           0,
           0,
           0,
           0,
           0,
           0,
           0,
           0,
           0,
           0,
           0,
           0,
           0,
           0,
           0,
           4,
           4
          ],
          [
           0,
           0,
           0,
           0,
           0,
           0,
           0,
           0,
           0,
           0,
           0,
           0,
           0,
           0,
           0,
           105,
           0,
           105
          ],
          [
           0,
           0,
           0,
           0,
           0,
           0,
           0,
           0,
           0,
           0,
           0,
           0,
           0,
           0,
           0,
           0,
           27033,
           27033
          ],
          [
           0,
           3,
           125,
           122,
           58,
           18,
           3,
           25,
           0,
           0,
           0,
           0,
           3,
           31,
           0,
           105,
           32987,
           33480
          ]
         ],
         "type": "heatmap",
         "xaxis": "x",
         "yaxis": "y",
         "hovertemplate": "Predicted: %{x}<br>Actual: %{y}<br>Count: %{z}<extra></extra>",
         "textfont": {
          "size": 10
         }
        }
       ],
       "layout": {
        "template": {
         "data": {
          "histogram2dcontour": [
           {
            "type": "histogram2dcontour",
            "colorbar": {
             "outlinewidth": 0,
             "ticks": ""
            },
            "colorscale": [
             [
              0.0,
              "#0d0887"
             ],
             [
              0.1111111111111111,
              "#46039f"
             ],
             [
              0.2222222222222222,
              "#7201a8"
             ],
             [
              0.3333333333333333,
              "#9c179e"
             ],
             [
              0.4444444444444444,
              "#bd3786"
             ],
             [
              0.5555555555555556,
              "#d8576b"
             ],
             [
              0.6666666666666666,
              "#ed7953"
             ],
             [
              0.7777777777777778,
              "#fb9f3a"
             ],
             [
              0.8888888888888888,
              "#fdca26"
             ],
             [
              1.0,
              "#f0f921"
             ]
            ]
           }
          ],
          "choropleth": [
           {
            "type": "choropleth",
            "colorbar": {
             "outlinewidth": 0,
             "ticks": ""
            }
           }
          ],
          "histogram2d": [
           {
            "type": "histogram2d",
            "colorbar": {
             "outlinewidth": 0,
             "ticks": ""
            },
            "colorscale": [
             [
              0.0,
              "#0d0887"
             ],
             [
              0.1111111111111111,
              "#46039f"
             ],
             [
              0.2222222222222222,
              "#7201a8"
             ],
             [
              0.3333333333333333,
              "#9c179e"
             ],
             [
              0.4444444444444444,
              "#bd3786"
             ],
             [
              0.5555555555555556,
              "#d8576b"
             ],
             [
              0.6666666666666666,
              "#ed7953"
             ],
             [
              0.7777777777777778,
              "#fb9f3a"
             ],
             [
              0.8888888888888888,
              "#fdca26"
             ],
             [
              1.0,
              "#f0f921"
             ]
            ]
           }
          ],
          "heatmap": [
           {
            "type": "heatmap",
            "colorbar": {
             "outlinewidth": 0,
             "ticks": ""
            },
            "colorscale": [
             [
              0.0,
              "#0d0887"
             ],
             [
              0.1111111111111111,
              "#46039f"
             ],
             [
              0.2222222222222222,
              "#7201a8"
             ],
             [
              0.3333333333333333,
              "#9c179e"
             ],
             [
              0.4444444444444444,
              "#bd3786"
             ],
             [
              0.5555555555555556,
              "#d8576b"
             ],
             [
              0.6666666666666666,
              "#ed7953"
             ],
             [
              0.7777777777777778,
              "#fb9f3a"
             ],
             [
              0.8888888888888888,
              "#fdca26"
             ],
             [
              1.0,
              "#f0f921"
             ]
            ]
           }
          ],
          "heatmapgl": [
           {
            "type": "heatmapgl",
            "colorbar": {
             "outlinewidth": 0,
             "ticks": ""
            },
            "colorscale": [
             [
              0.0,
              "#0d0887"
             ],
             [
              0.1111111111111111,
              "#46039f"
             ],
             [
              0.2222222222222222,
              "#7201a8"
             ],
             [
              0.3333333333333333,
              "#9c179e"
             ],
             [
              0.4444444444444444,
              "#bd3786"
             ],
             [
              0.5555555555555556,
              "#d8576b"
             ],
             [
              0.6666666666666666,
              "#ed7953"
             ],
             [
              0.7777777777777778,
              "#fb9f3a"
             ],
             [
              0.8888888888888888,
              "#fdca26"
             ],
             [
              1.0,
              "#f0f921"
             ]
            ]
           }
          ],
          "contourcarpet": [
           {
            "type": "contourcarpet",
            "colorbar": {
             "outlinewidth": 0,
             "ticks": ""
            }
           }
          ],
          "contour": [
           {
            "type": "contour",
            "colorbar": {
             "outlinewidth": 0,
             "ticks": ""
            },
            "colorscale": [
             [
              0.0,
              "#0d0887"
             ],
             [
              0.1111111111111111,
              "#46039f"
             ],
             [
              0.2222222222222222,
              "#7201a8"
             ],
             [
              0.3333333333333333,
              "#9c179e"
             ],
             [
              0.4444444444444444,
              "#bd3786"
             ],
             [
              0.5555555555555556,
              "#d8576b"
             ],
             [
              0.6666666666666666,
              "#ed7953"
             ],
             [
              0.7777777777777778,
              "#fb9f3a"
             ],
             [
              0.8888888888888888,
              "#fdca26"
             ],
             [
              1.0,
              "#f0f921"
             ]
            ]
           }
          ],
          "surface": [
           {
            "type": "surface",
            "colorbar": {
             "outlinewidth": 0,
             "ticks": ""
            },
            "colorscale": [
             [
              0.0,
              "#0d0887"
             ],
             [
              0.1111111111111111,
              "#46039f"
             ],
             [
              0.2222222222222222,
              "#7201a8"
             ],
             [
              0.3333333333333333,
              "#9c179e"
             ],
             [
              0.4444444444444444,
              "#bd3786"
             ],
             [
              0.5555555555555556,
              "#d8576b"
             ],
             [
              0.6666666666666666,
              "#ed7953"
             ],
             [
              0.7777777777777778,
              "#fb9f3a"
             ],
             [
              0.8888888888888888,
              "#fdca26"
             ],
             [
              1.0,
              "#f0f921"
             ]
            ]
           }
          ],
          "mesh3d": [
           {
            "type": "mesh3d",
            "colorbar": {
             "outlinewidth": 0,
             "ticks": ""
            }
           }
          ],
          "scatter": [
           {
            "fillpattern": {
             "fillmode": "overlay",
             "size": 10,
             "solidity": 0.2
            },
            "type": "scatter"
           }
          ],
          "parcoords": [
           {
            "type": "parcoords",
            "line": {
             "colorbar": {
              "outlinewidth": 0,
              "ticks": ""
             }
            }
           }
          ],
          "scatterpolargl": [
           {
            "type": "scatterpolargl",
            "marker": {
             "colorbar": {
              "outlinewidth": 0,
              "ticks": ""
             }
            }
           }
          ],
          "bar": [
           {
            "error_x": {
             "color": "#2a3f5f"
            },
            "error_y": {
             "color": "#2a3f5f"
            },
            "marker": {
             "line": {
              "color": "#E5ECF6",
              "width": 0.5
             },
             "pattern": {
              "fillmode": "overlay",
              "size": 10,
              "solidity": 0.2
             }
            },
            "type": "bar"
           }
          ],
          "scattergeo": [
           {
            "type": "scattergeo",
            "marker": {
             "colorbar": {
              "outlinewidth": 0,
              "ticks": ""
             }
            }
           }
          ],
          "scatterpolar": [
           {
            "type": "scatterpolar",
            "marker": {
             "colorbar": {
              "outlinewidth": 0,
              "ticks": ""
             }
            }
           }
          ],
          "histogram": [
           {
            "marker": {
             "pattern": {
              "fillmode": "overlay",
              "size": 10,
              "solidity": 0.2
             }
            },
            "type": "histogram"
           }
          ],
          "scattergl": [
           {
            "type": "scattergl",
            "marker": {
             "colorbar": {
              "outlinewidth": 0,
              "ticks": ""
             }
            }
           }
          ],
          "scatter3d": [
           {
            "type": "scatter3d",
            "line": {
             "colorbar": {
              "outlinewidth": 0,
              "ticks": ""
             }
            },
            "marker": {
             "colorbar": {
              "outlinewidth": 0,
              "ticks": ""
             }
            }
           }
          ],
          "scattermapbox": [
           {
            "type": "scattermapbox",
            "marker": {
             "colorbar": {
              "outlinewidth": 0,
              "ticks": ""
             }
            }
           }
          ],
          "scatterternary": [
           {
            "type": "scatterternary",
            "marker": {
             "colorbar": {
              "outlinewidth": 0,
              "ticks": ""
             }
            }
           }
          ],
          "scattercarpet": [
           {
            "type": "scattercarpet",
            "marker": {
             "colorbar": {
              "outlinewidth": 0,
              "ticks": ""
             }
            }
           }
          ],
          "carpet": [
           {
            "aaxis": {
             "endlinecolor": "#2a3f5f",
             "gridcolor": "white",
             "linecolor": "white",
             "minorgridcolor": "white",
             "startlinecolor": "#2a3f5f"
            },
            "baxis": {
             "endlinecolor": "#2a3f5f",
             "gridcolor": "white",
             "linecolor": "white",
             "minorgridcolor": "white",
             "startlinecolor": "#2a3f5f"
            },
            "type": "carpet"
           }
          ],
          "table": [
           {
            "cells": {
             "fill": {
              "color": "#EBF0F8"
             },
             "line": {
              "color": "white"
             }
            },
            "header": {
             "fill": {
              "color": "#C8D4E3"
             },
             "line": {
              "color": "white"
             }
            },
            "type": "table"
           }
          ],
          "barpolar": [
           {
            "marker": {
             "line": {
              "color": "#E5ECF6",
              "width": 0.5
             },
             "pattern": {
              "fillmode": "overlay",
              "size": 10,
              "solidity": 0.2
             }
            },
            "type": "barpolar"
           }
          ],
          "pie": [
           {
            "automargin": true,
            "type": "pie"
           }
          ]
         },
         "layout": {
          "autotypenumbers": "strict",
          "colorway": [
           "#636efa",
           "#EF553B",
           "#00cc96",
           "#ab63fa",
           "#FFA15A",
           "#19d3f3",
           "#FF6692",
           "#B6E880",
           "#FF97FF",
           "#FECB52"
          ],
          "font": {
           "color": "#2a3f5f"
          },
          "hovermode": "closest",
          "hoverlabel": {
           "align": "left"
          },
          "paper_bgcolor": "white",
          "plot_bgcolor": "#E5ECF6",
          "polar": {
           "bgcolor": "#E5ECF6",
           "angularaxis": {
            "gridcolor": "white",
            "linecolor": "white",
            "ticks": ""
           },
           "radialaxis": {
            "gridcolor": "white",
            "linecolor": "white",
            "ticks": ""
           }
          },
          "ternary": {
           "bgcolor": "#E5ECF6",
           "aaxis": {
            "gridcolor": "white",
            "linecolor": "white",
            "ticks": ""
           },
           "baxis": {
            "gridcolor": "white",
            "linecolor": "white",
            "ticks": ""
           },
           "caxis": {
            "gridcolor": "white",
            "linecolor": "white",
            "ticks": ""
           }
          },
          "coloraxis": {
           "colorbar": {
            "outlinewidth": 0,
            "ticks": ""
           }
          },
          "colorscale": {
           "sequential": [
            [
             0.0,
             "#0d0887"
            ],
            [
             0.1111111111111111,
             "#46039f"
            ],
            [
             0.2222222222222222,
             "#7201a8"
            ],
            [
             0.3333333333333333,
             "#9c179e"
            ],
            [
             0.4444444444444444,
             "#bd3786"
            ],
            [
             0.5555555555555556,
             "#d8576b"
            ],
            [
             0.6666666666666666,
             "#ed7953"
            ],
            [
             0.7777777777777778,
             "#fb9f3a"
            ],
            [
             0.8888888888888888,
             "#fdca26"
            ],
            [
             1.0,
             "#f0f921"
            ]
           ],
           "sequentialminus": [
            [
             0.0,
             "#0d0887"
            ],
            [
             0.1111111111111111,
             "#46039f"
            ],
            [
             0.2222222222222222,
             "#7201a8"
            ],
            [
             0.3333333333333333,
             "#9c179e"
            ],
            [
             0.4444444444444444,
             "#bd3786"
            ],
            [
             0.5555555555555556,
             "#d8576b"
            ],
            [
             0.6666666666666666,
             "#ed7953"
            ],
            [
             0.7777777777777778,
             "#fb9f3a"
            ],
            [
             0.8888888888888888,
             "#fdca26"
            ],
            [
             1.0,
             "#f0f921"
            ]
           ],
           "diverging": [
            [
             0,
             "#8e0152"
            ],
            [
             0.1,
             "#c51b7d"
            ],
            [
             0.2,
             "#de77ae"
            ],
            [
             0.3,
             "#f1b6da"
            ],
            [
             0.4,
             "#fde0ef"
            ],
            [
             0.5,
             "#f7f7f7"
            ],
            [
             0.6,
             "#e6f5d0"
            ],
            [
             0.7,
             "#b8e186"
            ],
            [
             0.8,
             "#7fbc41"
            ],
            [
             0.9,
             "#4d9221"
            ],
            [
             1,
             "#276419"
            ]
           ]
          },
          "xaxis": {
           "gridcolor": "white",
           "linecolor": "white",
           "ticks": "",
           "title": {
            "standoff": 15
           },
           "zerolinecolor": "white",
           "automargin": true,
           "zerolinewidth": 2
          },
          "yaxis": {
           "gridcolor": "white",
           "linecolor": "white",
           "ticks": "",
           "title": {
            "standoff": 15
           },
           "zerolinecolor": "white",
           "automargin": true,
           "zerolinewidth": 2
          },
          "scene": {
           "xaxis": {
            "backgroundcolor": "#E5ECF6",
            "gridcolor": "white",
            "linecolor": "white",
            "showbackground": true,
            "ticks": "",
            "zerolinecolor": "white",
            "gridwidth": 2
           },
           "yaxis": {
            "backgroundcolor": "#E5ECF6",
            "gridcolor": "white",
            "linecolor": "white",
            "showbackground": true,
            "ticks": "",
            "zerolinecolor": "white",
            "gridwidth": 2
           },
           "zaxis": {
            "backgroundcolor": "#E5ECF6",
            "gridcolor": "white",
            "linecolor": "white",
            "showbackground": true,
            "ticks": "",
            "zerolinecolor": "white",
            "gridwidth": 2
           }
          },
          "shapedefaults": {
           "line": {
            "color": "#2a3f5f"
           }
          },
          "annotationdefaults": {
           "arrowcolor": "#2a3f5f",
           "arrowhead": 0,
           "arrowwidth": 1
          },
          "geo": {
           "bgcolor": "white",
           "landcolor": "#E5ECF6",
           "subunitcolor": "white",
           "showland": true,
           "showlakes": true,
           "lakecolor": "white"
          },
          "title": {
           "x": 0.05
          },
          "mapbox": {
           "style": "light"
          }
         }
        },
        "xaxis": {
         "anchor": "y",
         "domain": [
          0.0,
          1.0
         ],
         "scaleanchor": "y",
         "constrain": "domain",
         "title": {
          "text": "Predicted",
          "standoff": 10
         },
         "tickangle": 90,
         "side": "top"
        },
        "yaxis": {
         "anchor": "x",
         "domain": [
          0.0,
          1.0
         ],
         "autorange": "reversed",
         "constrain": "domain",
         "title": {
          "text": "Actual"
         }
        },
        "coloraxis": {
         "colorbar": {
          "title": {
           "text": "Count"
          }
         },
         "colorscale": [
          [
           0.0,
           "rgb(247,251,255)"
          ],
          [
           0.125,
           "rgb(222,235,247)"
          ],
          [
           0.25,
           "rgb(198,219,239)"
          ],
          [
           0.375,
           "rgb(158,202,225)"
          ],
          [
           0.5,
           "rgb(107,174,214)"
          ],
          [
           0.625,
           "rgb(66,146,198)"
          ],
          [
           0.75,
           "rgb(33,113,181)"
          ],
          [
           0.875,
           "rgb(8,81,156)"
          ],
          [
           1.0,
           "rgb(8,48,107)"
          ]
         ]
        },
        "title": {
         "text": "Confusion Matrix for Presidio Analyzer"
        },
        "width": 800,
        "height": 800
       },
       "config": {
        "plotlyServerURL": "https://plot.ly"
       }
      },
      "text/html": [
       "<div>                            <div id=\"1b15c643-8b8e-49cb-bc75-1ef16f04b8b0\" class=\"plotly-graph-div\" style=\"height:800px; width:800px;\"></div>            <script type=\"text/javascript\">                require([\"plotly\"], function(Plotly) {                    window.PLOTLYENV=window.PLOTLYENV || {};                                    if (document.getElementById(\"1b15c643-8b8e-49cb-bc75-1ef16f04b8b0\")) {                    Plotly.newPlot(                        \"1b15c643-8b8e-49cb-bc75-1ef16f04b8b0\",                        [{\"coloraxis\":\"coloraxis\",\"name\":\"0\",\"texttemplate\":\"%{z}\",\"x\":[\"AGE\",\"AU_ACN\",\"CREDIT_CARD\",\"DATE_TIME\",\"EMAIL_ADDRESS\",\"IBAN_CODE\",\"IN_AADHAAR\",\"IP_ADDRESS\",\"LOCATION\",\"NRP\",\"PERSON\",\"PHONE_NUMBER\",\"UK_NHS\",\"URL\",\"US_DRIVER_LICENSE\",\"US_SSN\",\"O\",\"Total\"],\"y\":[\"AGE\",\"AU_ACN\",\"CREDIT_CARD\",\"DATE_TIME\",\"EMAIL_ADDRESS\",\"IBAN_CODE\",\"IN_AADHAAR\",\"IP_ADDRESS\",\"LOCATION\",\"NRP\",\"PERSON\",\"PHONE_NUMBER\",\"UK_NHS\",\"URL\",\"US_DRIVER_LICENSE\",\"US_SSN\",\"O\",\"Total\"],\"z\":[[0,0,0,0,0,0,0,0,0,0,0,0,0,0,0,0,101,101],[0,0,0,0,0,0,0,0,0,0,0,0,0,0,0,0,0,0],[0,0,125,0,0,0,3,0,0,0,0,0,0,0,0,0,38,166],[0,0,0,122,0,0,0,0,0,0,0,0,0,0,0,0,138,260],[0,0,0,0,58,0,0,0,0,0,0,0,0,0,0,0,0,58],[0,0,0,0,0,18,0,0,0,0,0,0,0,0,0,0,0,18],[0,0,0,0,0,0,0,0,0,0,0,0,0,0,0,0,0,0],[0,0,0,0,0,0,0,25,0,0,0,0,0,0,0,0,0,25],[0,0,0,0,0,0,0,0,0,0,0,0,0,0,0,0,3270,3270],[0,0,0,0,0,0,0,0,0,0,0,0,0,0,0,0,89,89],[0,0,0,0,0,0,0,0,0,0,0,0,0,0,0,0,1893,1893],[0,3,0,0,0,0,0,0,0,0,0,0,3,0,0,0,418,424],[0,0,0,0,0,0,0,0,0,0,0,0,0,0,0,0,0,0],[0,0,0,0,0,0,0,0,0,0,0,0,0,31,0,0,3,34],[0,0,0,0,0,0,0,0,0,0,0,0,0,0,0,0,4,4],[0,0,0,0,0,0,0,0,0,0,0,0,0,0,0,105,0,105],[0,0,0,0,0,0,0,0,0,0,0,0,0,0,0,0,27033,27033],[0,3,125,122,58,18,3,25,0,0,0,0,3,31,0,105,32987,33480]],\"type\":\"heatmap\",\"xaxis\":\"x\",\"yaxis\":\"y\",\"hovertemplate\":\"Predicted: %{x}\\u003cbr\\u003eActual: %{y}\\u003cbr\\u003eCount: %{z}\\u003cextra\\u003e\\u003c\\u002fextra\\u003e\",\"textfont\":{\"size\":10}}],                        {\"template\":{\"data\":{\"histogram2dcontour\":[{\"type\":\"histogram2dcontour\",\"colorbar\":{\"outlinewidth\":0,\"ticks\":\"\"},\"colorscale\":[[0.0,\"#0d0887\"],[0.1111111111111111,\"#46039f\"],[0.2222222222222222,\"#7201a8\"],[0.3333333333333333,\"#9c179e\"],[0.4444444444444444,\"#bd3786\"],[0.5555555555555556,\"#d8576b\"],[0.6666666666666666,\"#ed7953\"],[0.7777777777777778,\"#fb9f3a\"],[0.8888888888888888,\"#fdca26\"],[1.0,\"#f0f921\"]]}],\"choropleth\":[{\"type\":\"choropleth\",\"colorbar\":{\"outlinewidth\":0,\"ticks\":\"\"}}],\"histogram2d\":[{\"type\":\"histogram2d\",\"colorbar\":{\"outlinewidth\":0,\"ticks\":\"\"},\"colorscale\":[[0.0,\"#0d0887\"],[0.1111111111111111,\"#46039f\"],[0.2222222222222222,\"#7201a8\"],[0.3333333333333333,\"#9c179e\"],[0.4444444444444444,\"#bd3786\"],[0.5555555555555556,\"#d8576b\"],[0.6666666666666666,\"#ed7953\"],[0.7777777777777778,\"#fb9f3a\"],[0.8888888888888888,\"#fdca26\"],[1.0,\"#f0f921\"]]}],\"heatmap\":[{\"type\":\"heatmap\",\"colorbar\":{\"outlinewidth\":0,\"ticks\":\"\"},\"colorscale\":[[0.0,\"#0d0887\"],[0.1111111111111111,\"#46039f\"],[0.2222222222222222,\"#7201a8\"],[0.3333333333333333,\"#9c179e\"],[0.4444444444444444,\"#bd3786\"],[0.5555555555555556,\"#d8576b\"],[0.6666666666666666,\"#ed7953\"],[0.7777777777777778,\"#fb9f3a\"],[0.8888888888888888,\"#fdca26\"],[1.0,\"#f0f921\"]]}],\"heatmapgl\":[{\"type\":\"heatmapgl\",\"colorbar\":{\"outlinewidth\":0,\"ticks\":\"\"},\"colorscale\":[[0.0,\"#0d0887\"],[0.1111111111111111,\"#46039f\"],[0.2222222222222222,\"#7201a8\"],[0.3333333333333333,\"#9c179e\"],[0.4444444444444444,\"#bd3786\"],[0.5555555555555556,\"#d8576b\"],[0.6666666666666666,\"#ed7953\"],[0.7777777777777778,\"#fb9f3a\"],[0.8888888888888888,\"#fdca26\"],[1.0,\"#f0f921\"]]}],\"contourcarpet\":[{\"type\":\"contourcarpet\",\"colorbar\":{\"outlinewidth\":0,\"ticks\":\"\"}}],\"contour\":[{\"type\":\"contour\",\"colorbar\":{\"outlinewidth\":0,\"ticks\":\"\"},\"colorscale\":[[0.0,\"#0d0887\"],[0.1111111111111111,\"#46039f\"],[0.2222222222222222,\"#7201a8\"],[0.3333333333333333,\"#9c179e\"],[0.4444444444444444,\"#bd3786\"],[0.5555555555555556,\"#d8576b\"],[0.6666666666666666,\"#ed7953\"],[0.7777777777777778,\"#fb9f3a\"],[0.8888888888888888,\"#fdca26\"],[1.0,\"#f0f921\"]]}],\"surface\":[{\"type\":\"surface\",\"colorbar\":{\"outlinewidth\":0,\"ticks\":\"\"},\"colorscale\":[[0.0,\"#0d0887\"],[0.1111111111111111,\"#46039f\"],[0.2222222222222222,\"#7201a8\"],[0.3333333333333333,\"#9c179e\"],[0.4444444444444444,\"#bd3786\"],[0.5555555555555556,\"#d8576b\"],[0.6666666666666666,\"#ed7953\"],[0.7777777777777778,\"#fb9f3a\"],[0.8888888888888888,\"#fdca26\"],[1.0,\"#f0f921\"]]}],\"mesh3d\":[{\"type\":\"mesh3d\",\"colorbar\":{\"outlinewidth\":0,\"ticks\":\"\"}}],\"scatter\":[{\"fillpattern\":{\"fillmode\":\"overlay\",\"size\":10,\"solidity\":0.2},\"type\":\"scatter\"}],\"parcoords\":[{\"type\":\"parcoords\",\"line\":{\"colorbar\":{\"outlinewidth\":0,\"ticks\":\"\"}}}],\"scatterpolargl\":[{\"type\":\"scatterpolargl\",\"marker\":{\"colorbar\":{\"outlinewidth\":0,\"ticks\":\"\"}}}],\"bar\":[{\"error_x\":{\"color\":\"#2a3f5f\"},\"error_y\":{\"color\":\"#2a3f5f\"},\"marker\":{\"line\":{\"color\":\"#E5ECF6\",\"width\":0.5},\"pattern\":{\"fillmode\":\"overlay\",\"size\":10,\"solidity\":0.2}},\"type\":\"bar\"}],\"scattergeo\":[{\"type\":\"scattergeo\",\"marker\":{\"colorbar\":{\"outlinewidth\":0,\"ticks\":\"\"}}}],\"scatterpolar\":[{\"type\":\"scatterpolar\",\"marker\":{\"colorbar\":{\"outlinewidth\":0,\"ticks\":\"\"}}}],\"histogram\":[{\"marker\":{\"pattern\":{\"fillmode\":\"overlay\",\"size\":10,\"solidity\":0.2}},\"type\":\"histogram\"}],\"scattergl\":[{\"type\":\"scattergl\",\"marker\":{\"colorbar\":{\"outlinewidth\":0,\"ticks\":\"\"}}}],\"scatter3d\":[{\"type\":\"scatter3d\",\"line\":{\"colorbar\":{\"outlinewidth\":0,\"ticks\":\"\"}},\"marker\":{\"colorbar\":{\"outlinewidth\":0,\"ticks\":\"\"}}}],\"scattermapbox\":[{\"type\":\"scattermapbox\",\"marker\":{\"colorbar\":{\"outlinewidth\":0,\"ticks\":\"\"}}}],\"scatterternary\":[{\"type\":\"scatterternary\",\"marker\":{\"colorbar\":{\"outlinewidth\":0,\"ticks\":\"\"}}}],\"scattercarpet\":[{\"type\":\"scattercarpet\",\"marker\":{\"colorbar\":{\"outlinewidth\":0,\"ticks\":\"\"}}}],\"carpet\":[{\"aaxis\":{\"endlinecolor\":\"#2a3f5f\",\"gridcolor\":\"white\",\"linecolor\":\"white\",\"minorgridcolor\":\"white\",\"startlinecolor\":\"#2a3f5f\"},\"baxis\":{\"endlinecolor\":\"#2a3f5f\",\"gridcolor\":\"white\",\"linecolor\":\"white\",\"minorgridcolor\":\"white\",\"startlinecolor\":\"#2a3f5f\"},\"type\":\"carpet\"}],\"table\":[{\"cells\":{\"fill\":{\"color\":\"#EBF0F8\"},\"line\":{\"color\":\"white\"}},\"header\":{\"fill\":{\"color\":\"#C8D4E3\"},\"line\":{\"color\":\"white\"}},\"type\":\"table\"}],\"barpolar\":[{\"marker\":{\"line\":{\"color\":\"#E5ECF6\",\"width\":0.5},\"pattern\":{\"fillmode\":\"overlay\",\"size\":10,\"solidity\":0.2}},\"type\":\"barpolar\"}],\"pie\":[{\"automargin\":true,\"type\":\"pie\"}]},\"layout\":{\"autotypenumbers\":\"strict\",\"colorway\":[\"#636efa\",\"#EF553B\",\"#00cc96\",\"#ab63fa\",\"#FFA15A\",\"#19d3f3\",\"#FF6692\",\"#B6E880\",\"#FF97FF\",\"#FECB52\"],\"font\":{\"color\":\"#2a3f5f\"},\"hovermode\":\"closest\",\"hoverlabel\":{\"align\":\"left\"},\"paper_bgcolor\":\"white\",\"plot_bgcolor\":\"#E5ECF6\",\"polar\":{\"bgcolor\":\"#E5ECF6\",\"angularaxis\":{\"gridcolor\":\"white\",\"linecolor\":\"white\",\"ticks\":\"\"},\"radialaxis\":{\"gridcolor\":\"white\",\"linecolor\":\"white\",\"ticks\":\"\"}},\"ternary\":{\"bgcolor\":\"#E5ECF6\",\"aaxis\":{\"gridcolor\":\"white\",\"linecolor\":\"white\",\"ticks\":\"\"},\"baxis\":{\"gridcolor\":\"white\",\"linecolor\":\"white\",\"ticks\":\"\"},\"caxis\":{\"gridcolor\":\"white\",\"linecolor\":\"white\",\"ticks\":\"\"}},\"coloraxis\":{\"colorbar\":{\"outlinewidth\":0,\"ticks\":\"\"}},\"colorscale\":{\"sequential\":[[0.0,\"#0d0887\"],[0.1111111111111111,\"#46039f\"],[0.2222222222222222,\"#7201a8\"],[0.3333333333333333,\"#9c179e\"],[0.4444444444444444,\"#bd3786\"],[0.5555555555555556,\"#d8576b\"],[0.6666666666666666,\"#ed7953\"],[0.7777777777777778,\"#fb9f3a\"],[0.8888888888888888,\"#fdca26\"],[1.0,\"#f0f921\"]],\"sequentialminus\":[[0.0,\"#0d0887\"],[0.1111111111111111,\"#46039f\"],[0.2222222222222222,\"#7201a8\"],[0.3333333333333333,\"#9c179e\"],[0.4444444444444444,\"#bd3786\"],[0.5555555555555556,\"#d8576b\"],[0.6666666666666666,\"#ed7953\"],[0.7777777777777778,\"#fb9f3a\"],[0.8888888888888888,\"#fdca26\"],[1.0,\"#f0f921\"]],\"diverging\":[[0,\"#8e0152\"],[0.1,\"#c51b7d\"],[0.2,\"#de77ae\"],[0.3,\"#f1b6da\"],[0.4,\"#fde0ef\"],[0.5,\"#f7f7f7\"],[0.6,\"#e6f5d0\"],[0.7,\"#b8e186\"],[0.8,\"#7fbc41\"],[0.9,\"#4d9221\"],[1,\"#276419\"]]},\"xaxis\":{\"gridcolor\":\"white\",\"linecolor\":\"white\",\"ticks\":\"\",\"title\":{\"standoff\":15},\"zerolinecolor\":\"white\",\"automargin\":true,\"zerolinewidth\":2},\"yaxis\":{\"gridcolor\":\"white\",\"linecolor\":\"white\",\"ticks\":\"\",\"title\":{\"standoff\":15},\"zerolinecolor\":\"white\",\"automargin\":true,\"zerolinewidth\":2},\"scene\":{\"xaxis\":{\"backgroundcolor\":\"#E5ECF6\",\"gridcolor\":\"white\",\"linecolor\":\"white\",\"showbackground\":true,\"ticks\":\"\",\"zerolinecolor\":\"white\",\"gridwidth\":2},\"yaxis\":{\"backgroundcolor\":\"#E5ECF6\",\"gridcolor\":\"white\",\"linecolor\":\"white\",\"showbackground\":true,\"ticks\":\"\",\"zerolinecolor\":\"white\",\"gridwidth\":2},\"zaxis\":{\"backgroundcolor\":\"#E5ECF6\",\"gridcolor\":\"white\",\"linecolor\":\"white\",\"showbackground\":true,\"ticks\":\"\",\"zerolinecolor\":\"white\",\"gridwidth\":2}},\"shapedefaults\":{\"line\":{\"color\":\"#2a3f5f\"}},\"annotationdefaults\":{\"arrowcolor\":\"#2a3f5f\",\"arrowhead\":0,\"arrowwidth\":1},\"geo\":{\"bgcolor\":\"white\",\"landcolor\":\"#E5ECF6\",\"subunitcolor\":\"white\",\"showland\":true,\"showlakes\":true,\"lakecolor\":\"white\"},\"title\":{\"x\":0.05},\"mapbox\":{\"style\":\"light\"}}},\"xaxis\":{\"anchor\":\"y\",\"domain\":[0.0,1.0],\"scaleanchor\":\"y\",\"constrain\":\"domain\",\"title\":{\"text\":\"Predicted\",\"standoff\":10},\"tickangle\":90,\"side\":\"top\"},\"yaxis\":{\"anchor\":\"x\",\"domain\":[0.0,1.0],\"autorange\":\"reversed\",\"constrain\":\"domain\",\"title\":{\"text\":\"Actual\"}},\"coloraxis\":{\"colorbar\":{\"title\":{\"text\":\"Count\"}},\"colorscale\":[[0.0,\"rgb(247,251,255)\"],[0.125,\"rgb(222,235,247)\"],[0.25,\"rgb(198,219,239)\"],[0.375,\"rgb(158,202,225)\"],[0.5,\"rgb(107,174,214)\"],[0.625,\"rgb(66,146,198)\"],[0.75,\"rgb(33,113,181)\"],[0.875,\"rgb(8,81,156)\"],[1.0,\"rgb(8,48,107)\"]]},\"title\":{\"text\":\"Confusion Matrix for Presidio Analyzer\"},\"width\":800,\"height\":800},                        {\"responsive\": true}                    ).then(function(){\n",
       "                            \n",
       "var gd = document.getElementById('1b15c643-8b8e-49cb-bc75-1ef16f04b8b0');\n",
       "var x = new MutationObserver(function (mutations, observer) {{\n",
       "        var display = window.getComputedStyle(gd).display;\n",
       "        if (!display || display === 'none') {{\n",
       "            console.log([gd, 'removed!']);\n",
       "            Plotly.purge(gd);\n",
       "            observer.disconnect();\n",
       "        }}\n",
       "}});\n",
       "\n",
       "// Listen for the removal of the full notebook cells\n",
       "var notebookContainer = gd.closest('#notebook-container');\n",
       "if (notebookContainer) {{\n",
       "    x.observe(notebookContainer, {childList: true});\n",
       "}}\n",
       "\n",
       "// Listen for the clearing of the current output cell\n",
       "var outputEl = gd.closest('.output');\n",
       "if (outputEl) {{\n",
       "    x.observe(outputEl, {childList: true});\n",
       "}}\n",
       "\n",
       "                        })                };                });            </script>        </div>"
      ]
     },
     "metadata": {},
     "output_type": "display_data"
    },
    {
     "name": "stdout",
     "output_type": "stream",
     "text": [
      "Most common false positive tokens:\n",
      "[('675956263684', 1),\n",
      " ('501803075628', 1),\n",
      " ('729', 1),\n",
      " ('198', 1),\n",
      " ('216\\\\nDesk', 1),\n",
      " ('814', 1),\n",
      " ('967', 1),\n",
      " ('0726', 1),\n",
      " ('503889141613', 1)]\n",
      "---------------\n",
      "Example sentence with each FP token:\n",
      "\t- Could you please send me the last billed amount for cc 675956263684 on my e-mail PalffyMartuska@rhyta.com? (`675956263684` pred as IN_AADHAAR)\n",
      "\t- I want to cancel my card 501803075628 because I lost it (`501803075628` pred as IN_AADHAAR)\n",
      "\t- Vitór Gomes\\nAvista Public Acquisition Corp. II Unit\\nUnit 1324 Box 7546\n",
      "DPO AP 85115\\nMobile: 729 198 216\\nDesk: 07700 373 678\\nFax: +41 80 821 48 62\\n (`729` pred as AU_ACN)\n",
      "\t- Vitór Gomes\\nAvista Public Acquisition Corp. II Unit\\nUnit 1324 Box 7546\n",
      "DPO AP 85115\\nMobile: 729 198 216\\nDesk: 07700 373 678\\nFax: +41 80 821 48 62\\n (`198` pred as AU_ACN)\n",
      "\t- Vitór Gomes\\nAvista Public Acquisition Corp. II Unit\\nUnit 1324 Box 7546\n",
      "DPO AP 85115\\nMobile: 729 198 216\\nDesk: 07700 373 678\\nFax: +41 80 821 48 62\\n (`216\\nDesk` pred as AU_ACN)\n",
      "\t- Please have the manager call me at 814-967-0726 I'd like to join accounts with ms. Bartele (`814` pred as UK_NHS)\n",
      "\t- Please have the manager call me at 814-967-0726 I'd like to join accounts with ms. Bartele (`967` pred as UK_NHS)\n",
      "\t- Please have the manager call me at 814-967-0726 I'd like to join accounts with ms. Bartele (`0726` pred as UK_NHS)\n",
      "\t- Could you please send me the last billed amount for cc 503889141613 on my e-mail HelenaHribova@teleworm.us? (`503889141613` pred as IN_AADHAAR)\n",
      "Most common false negative tokens:\n",
      "[('nan', 25),\n",
      " ('AA', 24),\n",
      " ('DPO', 21),\n",
      " ('Cyprus', 20),\n",
      " ('Czech', 19),\n",
      " ('Norway', 19),\n",
      " ('APO', 18),\n",
      " ('FPO', 17),\n",
      " ('United', 16),\n",
      " ('AP', 16)]\n",
      "---------------\n",
      "Example sentence with each FN token:\n",
      "\t- I'd like it to be sent to 2774 Koepenicker Str. 38 Apt. 487\n",
      "Outer Kaiti, nan 82650 (`nan` annotated as LOCATION)\n",
      "\t- What is your address? it is PSC 2322, Box 6025\n",
      "APO AA 88307 (`AA` annotated as LOCATION)\n",
      "\t- Bot: Where would you like this to be sent to? User: Unit 4670 Box 6562\n",
      "DPO AA 17229 (`DPO` annotated as LOCATION)\n",
      "\t- We moved here from Cyprus (`Cyprus` annotated as LOCATION)\n",
      "\t- Helena C Carlsen\\n\\n637 Strojírenská 1006\\n Suite 026\\n Svratka\\n Czech Republic 45098 (`Czech` annotated as LOCATION)\n",
      "\t- I'd like it to be sent to 71236 Mühle 77 Suite 160, BODØ, Norway (`Norway` annotated as LOCATION)\n",
      "\t- What is your address? it is PSC 2322, Box 6025\n",
      "APO AA 88307 (`APO` annotated as LOCATION)\n",
      "\t- As promised, here's Marina's address:\\n\\nUSNS Šimić\n",
      "FPO AA 13523 (`FPO` annotated as LOCATION)\n",
      "\t- Aurora Strømsnes\\n\\n475 2 Lamphey Road\\n Apt. 079\\n THE LAURELS\\n United Kingdom 74293 (`United` annotated as LOCATION)\n",
      "\t- The restaurant is located at PSC 1708, Box 0531\n",
      "APO AP 05777. It serves great Danish food. (`AP` annotated as LOCATION)\n"
     ]
    },
    {
     "data": {
      "image/png": "[encoded data removed]"
     },
     "metadata": {},
     "output_type": "display_data"
    },
    {
     "data": {
      "image/png": "[encoded data removed]"
     },
     "metadata": {},
     "output_type": "display_data"
    },
    {
     "data": {
      "text/plain": [
       "<Figure size 800x600 with 1 Axes>"
      ],
      "image/png": "[encoded data removed]"
     },
     "metadata": {},
     "output_type": "display_data"
    }
   ],
   "execution_count": 13
  },
  {
   "cell_type": "markdown",
   "id": "070f8287",
   "metadata": {},
   "source": [
    "## 8. Error analysis\n",
    "\n",
    "Now let's look into results to understand what's behind the metrics we're getting.\n",
    "Note that evaluation is never perfect. Some things to consider:\n",
    "1. There's often a mismatch between the annotated span and the predicted span, which isn't necessarily a mistake. For example: `<Southern France>` compared with `Southern <France>`. In the second text, the word `Southern` was not annotated/predicted as part of the entity, but that's not necessarily an error.\n",
    "2. Token based evaluation (which is used here) counts the number of true positive / false positive / false negative tokens. Some entities might be broken into more tokens than others. For example, the phone number `222-444-1234` could be broken into five different tokens, whereas `Krishna` would be broken into one token, resulting in phone numbers having more influence on metrics than names.\n",
    "3. The synthetic dataset used here isn't representative of a real dataset. Consider using more realistic datasets for evaluation"
   ]
  },
  {
   "metadata": {
    "ExecuteTime": {
     "end_time": "2025-03-16T21:26:07.156913Z",
     "start_time": "2025-03-16T21:26:07.154523Z"
    }
   },
   "cell_type": "code",
   "source": "",
   "id": "a905f16312f69775",
   "outputs": [],
   "execution_count": null
  }
 ],
 "metadata": {
  "kernelspec": {
   "display_name": "Python 3 (ipykernel)",
   "language": "python",
   "name": "python3"
  },
  "language_info": {
   "codemirror_mode": {
    "name": "ipython",
    "version": 3
   },
   "file_extension": ".py",
   "mimetype": "text/x-python",
   "name": "python",
   "nbconvert_exporter": "python",
   "pygments_lexer": "ipython3",
   "version": "3.9.6"
  }
 },
 "nbformat": 4,
 "nbformat_minor": 5
}
